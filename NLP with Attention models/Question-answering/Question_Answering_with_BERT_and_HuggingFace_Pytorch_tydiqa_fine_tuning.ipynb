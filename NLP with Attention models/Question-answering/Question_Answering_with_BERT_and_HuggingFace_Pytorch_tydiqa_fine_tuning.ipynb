{
  "nbformat": 4,
  "nbformat_minor": 0,
  "metadata": {
    "accelerator": "GPU",
    "colab": {
      "name": "Question_Answering_with_BERT_and_HuggingFace_Pytorch_tydiqa_fine-tuning.ipynb",
      "provenance": [],
      "collapsed_sections": []
    },
    "kernelspec": {
      "display_name": "Python 3",
      "language": "python",
      "name": "python3"
    },
    "language_info": {
      "codemirror_mode": {
        "name": "ipython",
        "version": 3
      },
      "file_extension": ".py",
      "mimetype": "text/x-python",
      "name": "python",
      "nbconvert_exporter": "python",
      "pygments_lexer": "ipython3",
      "version": "3.7.3"
    },
    "widgets": {
      "application/vnd.jupyter.widget-state+json": {
        "3a3de7bbac554db68741e05bde091855": {
          "model_module": "@jupyter-widgets/controls",
          "model_name": "HBoxModel",
          "model_module_version": "1.5.0",
          "state": {
            "_dom_classes": [],
            "_model_module": "@jupyter-widgets/controls",
            "_model_module_version": "1.5.0",
            "_model_name": "HBoxModel",
            "_view_count": null,
            "_view_module": "@jupyter-widgets/controls",
            "_view_module_version": "1.5.0",
            "_view_name": "HBoxView",
            "box_style": "",
            "children": [
              "IPY_MODEL_f3b822422e1149b480a0c4cbf2f532a3",
              "IPY_MODEL_ccb2684f120744f3b036b84a9031bad1",
              "IPY_MODEL_5b394042ecf34a1691f5cd5001c72856"
            ],
            "layout": "IPY_MODEL_506f4781480041c5a887c478df76cb77"
          }
        },
        "f3b822422e1149b480a0c4cbf2f532a3": {
          "model_module": "@jupyter-widgets/controls",
          "model_name": "HTMLModel",
          "model_module_version": "1.5.0",
          "state": {
            "_dom_classes": [],
            "_model_module": "@jupyter-widgets/controls",
            "_model_module_version": "1.5.0",
            "_model_name": "HTMLModel",
            "_view_count": null,
            "_view_module": "@jupyter-widgets/controls",
            "_view_module_version": "1.5.0",
            "_view_name": "HTMLView",
            "description": "",
            "description_tooltip": null,
            "layout": "IPY_MODEL_6a44ba1bcd9f404ba6eb4cca93a74f7d",
            "placeholder": "​",
            "style": "IPY_MODEL_57f4e4cc539a48bf9ff198438ff5ea9b",
            "value": "Downloading: 100%"
          }
        },
        "ccb2684f120744f3b036b84a9031bad1": {
          "model_module": "@jupyter-widgets/controls",
          "model_name": "FloatProgressModel",
          "model_module_version": "1.5.0",
          "state": {
            "_dom_classes": [],
            "_model_module": "@jupyter-widgets/controls",
            "_model_module_version": "1.5.0",
            "_model_name": "FloatProgressModel",
            "_view_count": null,
            "_view_module": "@jupyter-widgets/controls",
            "_view_module_version": "1.5.0",
            "_view_name": "ProgressView",
            "bar_style": "success",
            "description": "",
            "description_tooltip": null,
            "layout": "IPY_MODEL_aa13021d36d944c19e9a4303c05c89de",
            "max": 29,
            "min": 0,
            "orientation": "horizontal",
            "style": "IPY_MODEL_3ae4fee6f3484ad7b900c5ba2f5669ef",
            "value": 29
          }
        },
        "5b394042ecf34a1691f5cd5001c72856": {
          "model_module": "@jupyter-widgets/controls",
          "model_name": "HTMLModel",
          "model_module_version": "1.5.0",
          "state": {
            "_dom_classes": [],
            "_model_module": "@jupyter-widgets/controls",
            "_model_module_version": "1.5.0",
            "_model_name": "HTMLModel",
            "_view_count": null,
            "_view_module": "@jupyter-widgets/controls",
            "_view_module_version": "1.5.0",
            "_view_name": "HTMLView",
            "description": "",
            "description_tooltip": null,
            "layout": "IPY_MODEL_aa6dde31e3d3458fb811e4a330855919",
            "placeholder": "​",
            "style": "IPY_MODEL_d0754e4630344d73b383c25d5043b3da",
            "value": " 29.0/29.0 [00:00&lt;00:00, 227B/s]"
          }
        },
        "506f4781480041c5a887c478df76cb77": {
          "model_module": "@jupyter-widgets/base",
          "model_name": "LayoutModel",
          "model_module_version": "1.2.0",
          "state": {
            "_model_module": "@jupyter-widgets/base",
            "_model_module_version": "1.2.0",
            "_model_name": "LayoutModel",
            "_view_count": null,
            "_view_module": "@jupyter-widgets/base",
            "_view_module_version": "1.2.0",
            "_view_name": "LayoutView",
            "align_content": null,
            "align_items": null,
            "align_self": null,
            "border": null,
            "bottom": null,
            "display": null,
            "flex": null,
            "flex_flow": null,
            "grid_area": null,
            "grid_auto_columns": null,
            "grid_auto_flow": null,
            "grid_auto_rows": null,
            "grid_column": null,
            "grid_gap": null,
            "grid_row": null,
            "grid_template_areas": null,
            "grid_template_columns": null,
            "grid_template_rows": null,
            "height": null,
            "justify_content": null,
            "justify_items": null,
            "left": null,
            "margin": null,
            "max_height": null,
            "max_width": null,
            "min_height": null,
            "min_width": null,
            "object_fit": null,
            "object_position": null,
            "order": null,
            "overflow": null,
            "overflow_x": null,
            "overflow_y": null,
            "padding": null,
            "right": null,
            "top": null,
            "visibility": null,
            "width": null
          }
        },
        "6a44ba1bcd9f404ba6eb4cca93a74f7d": {
          "model_module": "@jupyter-widgets/base",
          "model_name": "LayoutModel",
          "model_module_version": "1.2.0",
          "state": {
            "_model_module": "@jupyter-widgets/base",
            "_model_module_version": "1.2.0",
            "_model_name": "LayoutModel",
            "_view_count": null,
            "_view_module": "@jupyter-widgets/base",
            "_view_module_version": "1.2.0",
            "_view_name": "LayoutView",
            "align_content": null,
            "align_items": null,
            "align_self": null,
            "border": null,
            "bottom": null,
            "display": null,
            "flex": null,
            "flex_flow": null,
            "grid_area": null,
            "grid_auto_columns": null,
            "grid_auto_flow": null,
            "grid_auto_rows": null,
            "grid_column": null,
            "grid_gap": null,
            "grid_row": null,
            "grid_template_areas": null,
            "grid_template_columns": null,
            "grid_template_rows": null,
            "height": null,
            "justify_content": null,
            "justify_items": null,
            "left": null,
            "margin": null,
            "max_height": null,
            "max_width": null,
            "min_height": null,
            "min_width": null,
            "object_fit": null,
            "object_position": null,
            "order": null,
            "overflow": null,
            "overflow_x": null,
            "overflow_y": null,
            "padding": null,
            "right": null,
            "top": null,
            "visibility": null,
            "width": null
          }
        },
        "57f4e4cc539a48bf9ff198438ff5ea9b": {
          "model_module": "@jupyter-widgets/controls",
          "model_name": "DescriptionStyleModel",
          "model_module_version": "1.5.0",
          "state": {
            "_model_module": "@jupyter-widgets/controls",
            "_model_module_version": "1.5.0",
            "_model_name": "DescriptionStyleModel",
            "_view_count": null,
            "_view_module": "@jupyter-widgets/base",
            "_view_module_version": "1.2.0",
            "_view_name": "StyleView",
            "description_width": ""
          }
        },
        "aa13021d36d944c19e9a4303c05c89de": {
          "model_module": "@jupyter-widgets/base",
          "model_name": "LayoutModel",
          "model_module_version": "1.2.0",
          "state": {
            "_model_module": "@jupyter-widgets/base",
            "_model_module_version": "1.2.0",
            "_model_name": "LayoutModel",
            "_view_count": null,
            "_view_module": "@jupyter-widgets/base",
            "_view_module_version": "1.2.0",
            "_view_name": "LayoutView",
            "align_content": null,
            "align_items": null,
            "align_self": null,
            "border": null,
            "bottom": null,
            "display": null,
            "flex": null,
            "flex_flow": null,
            "grid_area": null,
            "grid_auto_columns": null,
            "grid_auto_flow": null,
            "grid_auto_rows": null,
            "grid_column": null,
            "grid_gap": null,
            "grid_row": null,
            "grid_template_areas": null,
            "grid_template_columns": null,
            "grid_template_rows": null,
            "height": null,
            "justify_content": null,
            "justify_items": null,
            "left": null,
            "margin": null,
            "max_height": null,
            "max_width": null,
            "min_height": null,
            "min_width": null,
            "object_fit": null,
            "object_position": null,
            "order": null,
            "overflow": null,
            "overflow_x": null,
            "overflow_y": null,
            "padding": null,
            "right": null,
            "top": null,
            "visibility": null,
            "width": null
          }
        },
        "3ae4fee6f3484ad7b900c5ba2f5669ef": {
          "model_module": "@jupyter-widgets/controls",
          "model_name": "ProgressStyleModel",
          "model_module_version": "1.5.0",
          "state": {
            "_model_module": "@jupyter-widgets/controls",
            "_model_module_version": "1.5.0",
            "_model_name": "ProgressStyleModel",
            "_view_count": null,
            "_view_module": "@jupyter-widgets/base",
            "_view_module_version": "1.2.0",
            "_view_name": "StyleView",
            "bar_color": null,
            "description_width": ""
          }
        },
        "aa6dde31e3d3458fb811e4a330855919": {
          "model_module": "@jupyter-widgets/base",
          "model_name": "LayoutModel",
          "model_module_version": "1.2.0",
          "state": {
            "_model_module": "@jupyter-widgets/base",
            "_model_module_version": "1.2.0",
            "_model_name": "LayoutModel",
            "_view_count": null,
            "_view_module": "@jupyter-widgets/base",
            "_view_module_version": "1.2.0",
            "_view_name": "LayoutView",
            "align_content": null,
            "align_items": null,
            "align_self": null,
            "border": null,
            "bottom": null,
            "display": null,
            "flex": null,
            "flex_flow": null,
            "grid_area": null,
            "grid_auto_columns": null,
            "grid_auto_flow": null,
            "grid_auto_rows": null,
            "grid_column": null,
            "grid_gap": null,
            "grid_row": null,
            "grid_template_areas": null,
            "grid_template_columns": null,
            "grid_template_rows": null,
            "height": null,
            "justify_content": null,
            "justify_items": null,
            "left": null,
            "margin": null,
            "max_height": null,
            "max_width": null,
            "min_height": null,
            "min_width": null,
            "object_fit": null,
            "object_position": null,
            "order": null,
            "overflow": null,
            "overflow_x": null,
            "overflow_y": null,
            "padding": null,
            "right": null,
            "top": null,
            "visibility": null,
            "width": null
          }
        },
        "d0754e4630344d73b383c25d5043b3da": {
          "model_module": "@jupyter-widgets/controls",
          "model_name": "DescriptionStyleModel",
          "model_module_version": "1.5.0",
          "state": {
            "_model_module": "@jupyter-widgets/controls",
            "_model_module_version": "1.5.0",
            "_model_name": "DescriptionStyleModel",
            "_view_count": null,
            "_view_module": "@jupyter-widgets/base",
            "_view_module_version": "1.2.0",
            "_view_name": "StyleView",
            "description_width": ""
          }
        },
        "5c0db5786a254dc2b74d5599ca64702e": {
          "model_module": "@jupyter-widgets/controls",
          "model_name": "HBoxModel",
          "model_module_version": "1.5.0",
          "state": {
            "_dom_classes": [],
            "_model_module": "@jupyter-widgets/controls",
            "_model_module_version": "1.5.0",
            "_model_name": "HBoxModel",
            "_view_count": null,
            "_view_module": "@jupyter-widgets/controls",
            "_view_module_version": "1.5.0",
            "_view_name": "HBoxView",
            "box_style": "",
            "children": [
              "IPY_MODEL_d9f0a83814334bdea783650850ac6ce9",
              "IPY_MODEL_b5f3857c91b544fb94b34c121246b568",
              "IPY_MODEL_8524f91dd3fa406296b6319bf635ef67"
            ],
            "layout": "IPY_MODEL_3608bf9af095462ba55c29671e408251"
          }
        },
        "d9f0a83814334bdea783650850ac6ce9": {
          "model_module": "@jupyter-widgets/controls",
          "model_name": "HTMLModel",
          "model_module_version": "1.5.0",
          "state": {
            "_dom_classes": [],
            "_model_module": "@jupyter-widgets/controls",
            "_model_module_version": "1.5.0",
            "_model_name": "HTMLModel",
            "_view_count": null,
            "_view_module": "@jupyter-widgets/controls",
            "_view_module_version": "1.5.0",
            "_view_name": "HTMLView",
            "description": "",
            "description_tooltip": null,
            "layout": "IPY_MODEL_b4999a9ce0dd4621970b687a38faba80",
            "placeholder": "​",
            "style": "IPY_MODEL_d4a8fb28d7b54ef9a0fe64e0db9b8b6a",
            "value": "Downloading: 100%"
          }
        },
        "b5f3857c91b544fb94b34c121246b568": {
          "model_module": "@jupyter-widgets/controls",
          "model_name": "FloatProgressModel",
          "model_module_version": "1.5.0",
          "state": {
            "_dom_classes": [],
            "_model_module": "@jupyter-widgets/controls",
            "_model_module_version": "1.5.0",
            "_model_name": "FloatProgressModel",
            "_view_count": null,
            "_view_module": "@jupyter-widgets/controls",
            "_view_module_version": "1.5.0",
            "_view_name": "ProgressView",
            "bar_style": "success",
            "description": "",
            "description_tooltip": null,
            "layout": "IPY_MODEL_f24376b858ad42c58a23f210c8a30343",
            "max": 473,
            "min": 0,
            "orientation": "horizontal",
            "style": "IPY_MODEL_307c758aa38347489db9379880bdc303",
            "value": 473
          }
        },
        "8524f91dd3fa406296b6319bf635ef67": {
          "model_module": "@jupyter-widgets/controls",
          "model_name": "HTMLModel",
          "model_module_version": "1.5.0",
          "state": {
            "_dom_classes": [],
            "_model_module": "@jupyter-widgets/controls",
            "_model_module_version": "1.5.0",
            "_model_name": "HTMLModel",
            "_view_count": null,
            "_view_module": "@jupyter-widgets/controls",
            "_view_module_version": "1.5.0",
            "_view_name": "HTMLView",
            "description": "",
            "description_tooltip": null,
            "layout": "IPY_MODEL_f0225a7ee78941fcbb18602a21d53f91",
            "placeholder": "​",
            "style": "IPY_MODEL_0cd376454f3847bf9f9be16efdb04925",
            "value": " 473/473 [00:00&lt;00:00, 3.28kB/s]"
          }
        },
        "3608bf9af095462ba55c29671e408251": {
          "model_module": "@jupyter-widgets/base",
          "model_name": "LayoutModel",
          "model_module_version": "1.2.0",
          "state": {
            "_model_module": "@jupyter-widgets/base",
            "_model_module_version": "1.2.0",
            "_model_name": "LayoutModel",
            "_view_count": null,
            "_view_module": "@jupyter-widgets/base",
            "_view_module_version": "1.2.0",
            "_view_name": "LayoutView",
            "align_content": null,
            "align_items": null,
            "align_self": null,
            "border": null,
            "bottom": null,
            "display": null,
            "flex": null,
            "flex_flow": null,
            "grid_area": null,
            "grid_auto_columns": null,
            "grid_auto_flow": null,
            "grid_auto_rows": null,
            "grid_column": null,
            "grid_gap": null,
            "grid_row": null,
            "grid_template_areas": null,
            "grid_template_columns": null,
            "grid_template_rows": null,
            "height": null,
            "justify_content": null,
            "justify_items": null,
            "left": null,
            "margin": null,
            "max_height": null,
            "max_width": null,
            "min_height": null,
            "min_width": null,
            "object_fit": null,
            "object_position": null,
            "order": null,
            "overflow": null,
            "overflow_x": null,
            "overflow_y": null,
            "padding": null,
            "right": null,
            "top": null,
            "visibility": null,
            "width": null
          }
        },
        "b4999a9ce0dd4621970b687a38faba80": {
          "model_module": "@jupyter-widgets/base",
          "model_name": "LayoutModel",
          "model_module_version": "1.2.0",
          "state": {
            "_model_module": "@jupyter-widgets/base",
            "_model_module_version": "1.2.0",
            "_model_name": "LayoutModel",
            "_view_count": null,
            "_view_module": "@jupyter-widgets/base",
            "_view_module_version": "1.2.0",
            "_view_name": "LayoutView",
            "align_content": null,
            "align_items": null,
            "align_self": null,
            "border": null,
            "bottom": null,
            "display": null,
            "flex": null,
            "flex_flow": null,
            "grid_area": null,
            "grid_auto_columns": null,
            "grid_auto_flow": null,
            "grid_auto_rows": null,
            "grid_column": null,
            "grid_gap": null,
            "grid_row": null,
            "grid_template_areas": null,
            "grid_template_columns": null,
            "grid_template_rows": null,
            "height": null,
            "justify_content": null,
            "justify_items": null,
            "left": null,
            "margin": null,
            "max_height": null,
            "max_width": null,
            "min_height": null,
            "min_width": null,
            "object_fit": null,
            "object_position": null,
            "order": null,
            "overflow": null,
            "overflow_x": null,
            "overflow_y": null,
            "padding": null,
            "right": null,
            "top": null,
            "visibility": null,
            "width": null
          }
        },
        "d4a8fb28d7b54ef9a0fe64e0db9b8b6a": {
          "model_module": "@jupyter-widgets/controls",
          "model_name": "DescriptionStyleModel",
          "model_module_version": "1.5.0",
          "state": {
            "_model_module": "@jupyter-widgets/controls",
            "_model_module_version": "1.5.0",
            "_model_name": "DescriptionStyleModel",
            "_view_count": null,
            "_view_module": "@jupyter-widgets/base",
            "_view_module_version": "1.2.0",
            "_view_name": "StyleView",
            "description_width": ""
          }
        },
        "f24376b858ad42c58a23f210c8a30343": {
          "model_module": "@jupyter-widgets/base",
          "model_name": "LayoutModel",
          "model_module_version": "1.2.0",
          "state": {
            "_model_module": "@jupyter-widgets/base",
            "_model_module_version": "1.2.0",
            "_model_name": "LayoutModel",
            "_view_count": null,
            "_view_module": "@jupyter-widgets/base",
            "_view_module_version": "1.2.0",
            "_view_name": "LayoutView",
            "align_content": null,
            "align_items": null,
            "align_self": null,
            "border": null,
            "bottom": null,
            "display": null,
            "flex": null,
            "flex_flow": null,
            "grid_area": null,
            "grid_auto_columns": null,
            "grid_auto_flow": null,
            "grid_auto_rows": null,
            "grid_column": null,
            "grid_gap": null,
            "grid_row": null,
            "grid_template_areas": null,
            "grid_template_columns": null,
            "grid_template_rows": null,
            "height": null,
            "justify_content": null,
            "justify_items": null,
            "left": null,
            "margin": null,
            "max_height": null,
            "max_width": null,
            "min_height": null,
            "min_width": null,
            "object_fit": null,
            "object_position": null,
            "order": null,
            "overflow": null,
            "overflow_x": null,
            "overflow_y": null,
            "padding": null,
            "right": null,
            "top": null,
            "visibility": null,
            "width": null
          }
        },
        "307c758aa38347489db9379880bdc303": {
          "model_module": "@jupyter-widgets/controls",
          "model_name": "ProgressStyleModel",
          "model_module_version": "1.5.0",
          "state": {
            "_model_module": "@jupyter-widgets/controls",
            "_model_module_version": "1.5.0",
            "_model_name": "ProgressStyleModel",
            "_view_count": null,
            "_view_module": "@jupyter-widgets/base",
            "_view_module_version": "1.2.0",
            "_view_name": "StyleView",
            "bar_color": null,
            "description_width": ""
          }
        },
        "f0225a7ee78941fcbb18602a21d53f91": {
          "model_module": "@jupyter-widgets/base",
          "model_name": "LayoutModel",
          "model_module_version": "1.2.0",
          "state": {
            "_model_module": "@jupyter-widgets/base",
            "_model_module_version": "1.2.0",
            "_model_name": "LayoutModel",
            "_view_count": null,
            "_view_module": "@jupyter-widgets/base",
            "_view_module_version": "1.2.0",
            "_view_name": "LayoutView",
            "align_content": null,
            "align_items": null,
            "align_self": null,
            "border": null,
            "bottom": null,
            "display": null,
            "flex": null,
            "flex_flow": null,
            "grid_area": null,
            "grid_auto_columns": null,
            "grid_auto_flow": null,
            "grid_auto_rows": null,
            "grid_column": null,
            "grid_gap": null,
            "grid_row": null,
            "grid_template_areas": null,
            "grid_template_columns": null,
            "grid_template_rows": null,
            "height": null,
            "justify_content": null,
            "justify_items": null,
            "left": null,
            "margin": null,
            "max_height": null,
            "max_width": null,
            "min_height": null,
            "min_width": null,
            "object_fit": null,
            "object_position": null,
            "order": null,
            "overflow": null,
            "overflow_x": null,
            "overflow_y": null,
            "padding": null,
            "right": null,
            "top": null,
            "visibility": null,
            "width": null
          }
        },
        "0cd376454f3847bf9f9be16efdb04925": {
          "model_module": "@jupyter-widgets/controls",
          "model_name": "DescriptionStyleModel",
          "model_module_version": "1.5.0",
          "state": {
            "_model_module": "@jupyter-widgets/controls",
            "_model_module_version": "1.5.0",
            "_model_name": "DescriptionStyleModel",
            "_view_count": null,
            "_view_module": "@jupyter-widgets/base",
            "_view_module_version": "1.2.0",
            "_view_name": "StyleView",
            "description_width": ""
          }
        },
        "6d1a3890d2464d6fa1e467311d34baab": {
          "model_module": "@jupyter-widgets/controls",
          "model_name": "HBoxModel",
          "model_module_version": "1.5.0",
          "state": {
            "_dom_classes": [],
            "_model_module": "@jupyter-widgets/controls",
            "_model_module_version": "1.5.0",
            "_model_name": "HBoxModel",
            "_view_count": null,
            "_view_module": "@jupyter-widgets/controls",
            "_view_module_version": "1.5.0",
            "_view_name": "HBoxView",
            "box_style": "",
            "children": [
              "IPY_MODEL_958b030268e546cab012f7f5ebce3832",
              "IPY_MODEL_a429814314bf4bd1ae6b7d8d3c52cf31",
              "IPY_MODEL_03f23bfd1b8c4b49957ffe3bce6a1c3c"
            ],
            "layout": "IPY_MODEL_1e124cfb738a4010a7a883c9f20687d4"
          }
        },
        "958b030268e546cab012f7f5ebce3832": {
          "model_module": "@jupyter-widgets/controls",
          "model_name": "HTMLModel",
          "model_module_version": "1.5.0",
          "state": {
            "_dom_classes": [],
            "_model_module": "@jupyter-widgets/controls",
            "_model_module_version": "1.5.0",
            "_model_name": "HTMLModel",
            "_view_count": null,
            "_view_module": "@jupyter-widgets/controls",
            "_view_module_version": "1.5.0",
            "_view_name": "HTMLView",
            "description": "",
            "description_tooltip": null,
            "layout": "IPY_MODEL_f8c6991310874791a8deded3d0dc5cd7",
            "placeholder": "​",
            "style": "IPY_MODEL_2618bf2bfb7e4e9ca534a882ebbdcb1c",
            "value": "Downloading: 100%"
          }
        },
        "a429814314bf4bd1ae6b7d8d3c52cf31": {
          "model_module": "@jupyter-widgets/controls",
          "model_name": "FloatProgressModel",
          "model_module_version": "1.5.0",
          "state": {
            "_dom_classes": [],
            "_model_module": "@jupyter-widgets/controls",
            "_model_module_version": "1.5.0",
            "_model_name": "FloatProgressModel",
            "_view_count": null,
            "_view_module": "@jupyter-widgets/controls",
            "_view_module_version": "1.5.0",
            "_view_name": "ProgressView",
            "bar_style": "success",
            "description": "",
            "description_tooltip": null,
            "layout": "IPY_MODEL_64f624906ee74ff4b7b24b7794c2a4c9",
            "max": 213450,
            "min": 0,
            "orientation": "horizontal",
            "style": "IPY_MODEL_78cda88c1ece4598a5eec26fa589aa5e",
            "value": 213450
          }
        },
        "03f23bfd1b8c4b49957ffe3bce6a1c3c": {
          "model_module": "@jupyter-widgets/controls",
          "model_name": "HTMLModel",
          "model_module_version": "1.5.0",
          "state": {
            "_dom_classes": [],
            "_model_module": "@jupyter-widgets/controls",
            "_model_module_version": "1.5.0",
            "_model_name": "HTMLModel",
            "_view_count": null,
            "_view_module": "@jupyter-widgets/controls",
            "_view_module_version": "1.5.0",
            "_view_name": "HTMLView",
            "description": "",
            "description_tooltip": null,
            "layout": "IPY_MODEL_c123b070424a4557bcc3d35e8ec0333f",
            "placeholder": "​",
            "style": "IPY_MODEL_1a446129e7cd4204b8aed4db9fe1e7a9",
            "value": " 208k/208k [00:00&lt;00:00, 9.81kB/s]"
          }
        },
        "1e124cfb738a4010a7a883c9f20687d4": {
          "model_module": "@jupyter-widgets/base",
          "model_name": "LayoutModel",
          "model_module_version": "1.2.0",
          "state": {
            "_model_module": "@jupyter-widgets/base",
            "_model_module_version": "1.2.0",
            "_model_name": "LayoutModel",
            "_view_count": null,
            "_view_module": "@jupyter-widgets/base",
            "_view_module_version": "1.2.0",
            "_view_name": "LayoutView",
            "align_content": null,
            "align_items": null,
            "align_self": null,
            "border": null,
            "bottom": null,
            "display": null,
            "flex": null,
            "flex_flow": null,
            "grid_area": null,
            "grid_auto_columns": null,
            "grid_auto_flow": null,
            "grid_auto_rows": null,
            "grid_column": null,
            "grid_gap": null,
            "grid_row": null,
            "grid_template_areas": null,
            "grid_template_columns": null,
            "grid_template_rows": null,
            "height": null,
            "justify_content": null,
            "justify_items": null,
            "left": null,
            "margin": null,
            "max_height": null,
            "max_width": null,
            "min_height": null,
            "min_width": null,
            "object_fit": null,
            "object_position": null,
            "order": null,
            "overflow": null,
            "overflow_x": null,
            "overflow_y": null,
            "padding": null,
            "right": null,
            "top": null,
            "visibility": null,
            "width": null
          }
        },
        "f8c6991310874791a8deded3d0dc5cd7": {
          "model_module": "@jupyter-widgets/base",
          "model_name": "LayoutModel",
          "model_module_version": "1.2.0",
          "state": {
            "_model_module": "@jupyter-widgets/base",
            "_model_module_version": "1.2.0",
            "_model_name": "LayoutModel",
            "_view_count": null,
            "_view_module": "@jupyter-widgets/base",
            "_view_module_version": "1.2.0",
            "_view_name": "LayoutView",
            "align_content": null,
            "align_items": null,
            "align_self": null,
            "border": null,
            "bottom": null,
            "display": null,
            "flex": null,
            "flex_flow": null,
            "grid_area": null,
            "grid_auto_columns": null,
            "grid_auto_flow": null,
            "grid_auto_rows": null,
            "grid_column": null,
            "grid_gap": null,
            "grid_row": null,
            "grid_template_areas": null,
            "grid_template_columns": null,
            "grid_template_rows": null,
            "height": null,
            "justify_content": null,
            "justify_items": null,
            "left": null,
            "margin": null,
            "max_height": null,
            "max_width": null,
            "min_height": null,
            "min_width": null,
            "object_fit": null,
            "object_position": null,
            "order": null,
            "overflow": null,
            "overflow_x": null,
            "overflow_y": null,
            "padding": null,
            "right": null,
            "top": null,
            "visibility": null,
            "width": null
          }
        },
        "2618bf2bfb7e4e9ca534a882ebbdcb1c": {
          "model_module": "@jupyter-widgets/controls",
          "model_name": "DescriptionStyleModel",
          "model_module_version": "1.5.0",
          "state": {
            "_model_module": "@jupyter-widgets/controls",
            "_model_module_version": "1.5.0",
            "_model_name": "DescriptionStyleModel",
            "_view_count": null,
            "_view_module": "@jupyter-widgets/base",
            "_view_module_version": "1.2.0",
            "_view_name": "StyleView",
            "description_width": ""
          }
        },
        "64f624906ee74ff4b7b24b7794c2a4c9": {
          "model_module": "@jupyter-widgets/base",
          "model_name": "LayoutModel",
          "model_module_version": "1.2.0",
          "state": {
            "_model_module": "@jupyter-widgets/base",
            "_model_module_version": "1.2.0",
            "_model_name": "LayoutModel",
            "_view_count": null,
            "_view_module": "@jupyter-widgets/base",
            "_view_module_version": "1.2.0",
            "_view_name": "LayoutView",
            "align_content": null,
            "align_items": null,
            "align_self": null,
            "border": null,
            "bottom": null,
            "display": null,
            "flex": null,
            "flex_flow": null,
            "grid_area": null,
            "grid_auto_columns": null,
            "grid_auto_flow": null,
            "grid_auto_rows": null,
            "grid_column": null,
            "grid_gap": null,
            "grid_row": null,
            "grid_template_areas": null,
            "grid_template_columns": null,
            "grid_template_rows": null,
            "height": null,
            "justify_content": null,
            "justify_items": null,
            "left": null,
            "margin": null,
            "max_height": null,
            "max_width": null,
            "min_height": null,
            "min_width": null,
            "object_fit": null,
            "object_position": null,
            "order": null,
            "overflow": null,
            "overflow_x": null,
            "overflow_y": null,
            "padding": null,
            "right": null,
            "top": null,
            "visibility": null,
            "width": null
          }
        },
        "78cda88c1ece4598a5eec26fa589aa5e": {
          "model_module": "@jupyter-widgets/controls",
          "model_name": "ProgressStyleModel",
          "model_module_version": "1.5.0",
          "state": {
            "_model_module": "@jupyter-widgets/controls",
            "_model_module_version": "1.5.0",
            "_model_name": "ProgressStyleModel",
            "_view_count": null,
            "_view_module": "@jupyter-widgets/base",
            "_view_module_version": "1.2.0",
            "_view_name": "StyleView",
            "bar_color": null,
            "description_width": ""
          }
        },
        "c123b070424a4557bcc3d35e8ec0333f": {
          "model_module": "@jupyter-widgets/base",
          "model_name": "LayoutModel",
          "model_module_version": "1.2.0",
          "state": {
            "_model_module": "@jupyter-widgets/base",
            "_model_module_version": "1.2.0",
            "_model_name": "LayoutModel",
            "_view_count": null,
            "_view_module": "@jupyter-widgets/base",
            "_view_module_version": "1.2.0",
            "_view_name": "LayoutView",
            "align_content": null,
            "align_items": null,
            "align_self": null,
            "border": null,
            "bottom": null,
            "display": null,
            "flex": null,
            "flex_flow": null,
            "grid_area": null,
            "grid_auto_columns": null,
            "grid_auto_flow": null,
            "grid_auto_rows": null,
            "grid_column": null,
            "grid_gap": null,
            "grid_row": null,
            "grid_template_areas": null,
            "grid_template_columns": null,
            "grid_template_rows": null,
            "height": null,
            "justify_content": null,
            "justify_items": null,
            "left": null,
            "margin": null,
            "max_height": null,
            "max_width": null,
            "min_height": null,
            "min_width": null,
            "object_fit": null,
            "object_position": null,
            "order": null,
            "overflow": null,
            "overflow_x": null,
            "overflow_y": null,
            "padding": null,
            "right": null,
            "top": null,
            "visibility": null,
            "width": null
          }
        },
        "1a446129e7cd4204b8aed4db9fe1e7a9": {
          "model_module": "@jupyter-widgets/controls",
          "model_name": "DescriptionStyleModel",
          "model_module_version": "1.5.0",
          "state": {
            "_model_module": "@jupyter-widgets/controls",
            "_model_module_version": "1.5.0",
            "_model_name": "DescriptionStyleModel",
            "_view_count": null,
            "_view_module": "@jupyter-widgets/base",
            "_view_module_version": "1.2.0",
            "_view_name": "StyleView",
            "description_width": ""
          }
        },
        "bff67211c46c45a0b20f555287102b88": {
          "model_module": "@jupyter-widgets/controls",
          "model_name": "HBoxModel",
          "model_module_version": "1.5.0",
          "state": {
            "_dom_classes": [],
            "_model_module": "@jupyter-widgets/controls",
            "_model_module_version": "1.5.0",
            "_model_name": "HBoxModel",
            "_view_count": null,
            "_view_module": "@jupyter-widgets/controls",
            "_view_module_version": "1.5.0",
            "_view_name": "HBoxView",
            "box_style": "",
            "children": [
              "IPY_MODEL_0bfbddc275af4cedbc187b5ce84e740e",
              "IPY_MODEL_bd0f431d89864da39e39adf44a5b807d",
              "IPY_MODEL_a27564099bf94cd4b160e2827c847a54"
            ],
            "layout": "IPY_MODEL_b9d45317f12247769d570b53fba36fad"
          }
        },
        "0bfbddc275af4cedbc187b5ce84e740e": {
          "model_module": "@jupyter-widgets/controls",
          "model_name": "HTMLModel",
          "model_module_version": "1.5.0",
          "state": {
            "_dom_classes": [],
            "_model_module": "@jupyter-widgets/controls",
            "_model_module_version": "1.5.0",
            "_model_name": "HTMLModel",
            "_view_count": null,
            "_view_module": "@jupyter-widgets/controls",
            "_view_module_version": "1.5.0",
            "_view_name": "HTMLView",
            "description": "",
            "description_tooltip": null,
            "layout": "IPY_MODEL_c26c827bd0d949aa955b2a793f82eb69",
            "placeholder": "​",
            "style": "IPY_MODEL_3fb41a35305c414e943fb57955d13d97",
            "value": "Downloading: 100%"
          }
        },
        "bd0f431d89864da39e39adf44a5b807d": {
          "model_module": "@jupyter-widgets/controls",
          "model_name": "FloatProgressModel",
          "model_module_version": "1.5.0",
          "state": {
            "_dom_classes": [],
            "_model_module": "@jupyter-widgets/controls",
            "_model_module_version": "1.5.0",
            "_model_name": "FloatProgressModel",
            "_view_count": null,
            "_view_module": "@jupyter-widgets/controls",
            "_view_module_version": "1.5.0",
            "_view_name": "ProgressView",
            "bar_style": "success",
            "description": "",
            "description_tooltip": null,
            "layout": "IPY_MODEL_56a0a2743d754b11ae3b42b2df33ef19",
            "max": 435797,
            "min": 0,
            "orientation": "horizontal",
            "style": "IPY_MODEL_80c0b4b3f98f4692b27f0ce1799e9866",
            "value": 435797
          }
        },
        "a27564099bf94cd4b160e2827c847a54": {
          "model_module": "@jupyter-widgets/controls",
          "model_name": "HTMLModel",
          "model_module_version": "1.5.0",
          "state": {
            "_dom_classes": [],
            "_model_module": "@jupyter-widgets/controls",
            "_model_module_version": "1.5.0",
            "_model_name": "HTMLModel",
            "_view_count": null,
            "_view_module": "@jupyter-widgets/controls",
            "_view_module_version": "1.5.0",
            "_view_name": "HTMLView",
            "description": "",
            "description_tooltip": null,
            "layout": "IPY_MODEL_67061c20e0e24740807cdfb807e6f359",
            "placeholder": "​",
            "style": "IPY_MODEL_ef3d6620916b4567afff692ebc7283f1",
            "value": " 426k/426k [00:00&lt;00:00, 1.92MB/s]"
          }
        },
        "b9d45317f12247769d570b53fba36fad": {
          "model_module": "@jupyter-widgets/base",
          "model_name": "LayoutModel",
          "model_module_version": "1.2.0",
          "state": {
            "_model_module": "@jupyter-widgets/base",
            "_model_module_version": "1.2.0",
            "_model_name": "LayoutModel",
            "_view_count": null,
            "_view_module": "@jupyter-widgets/base",
            "_view_module_version": "1.2.0",
            "_view_name": "LayoutView",
            "align_content": null,
            "align_items": null,
            "align_self": null,
            "border": null,
            "bottom": null,
            "display": null,
            "flex": null,
            "flex_flow": null,
            "grid_area": null,
            "grid_auto_columns": null,
            "grid_auto_flow": null,
            "grid_auto_rows": null,
            "grid_column": null,
            "grid_gap": null,
            "grid_row": null,
            "grid_template_areas": null,
            "grid_template_columns": null,
            "grid_template_rows": null,
            "height": null,
            "justify_content": null,
            "justify_items": null,
            "left": null,
            "margin": null,
            "max_height": null,
            "max_width": null,
            "min_height": null,
            "min_width": null,
            "object_fit": null,
            "object_position": null,
            "order": null,
            "overflow": null,
            "overflow_x": null,
            "overflow_y": null,
            "padding": null,
            "right": null,
            "top": null,
            "visibility": null,
            "width": null
          }
        },
        "c26c827bd0d949aa955b2a793f82eb69": {
          "model_module": "@jupyter-widgets/base",
          "model_name": "LayoutModel",
          "model_module_version": "1.2.0",
          "state": {
            "_model_module": "@jupyter-widgets/base",
            "_model_module_version": "1.2.0",
            "_model_name": "LayoutModel",
            "_view_count": null,
            "_view_module": "@jupyter-widgets/base",
            "_view_module_version": "1.2.0",
            "_view_name": "LayoutView",
            "align_content": null,
            "align_items": null,
            "align_self": null,
            "border": null,
            "bottom": null,
            "display": null,
            "flex": null,
            "flex_flow": null,
            "grid_area": null,
            "grid_auto_columns": null,
            "grid_auto_flow": null,
            "grid_auto_rows": null,
            "grid_column": null,
            "grid_gap": null,
            "grid_row": null,
            "grid_template_areas": null,
            "grid_template_columns": null,
            "grid_template_rows": null,
            "height": null,
            "justify_content": null,
            "justify_items": null,
            "left": null,
            "margin": null,
            "max_height": null,
            "max_width": null,
            "min_height": null,
            "min_width": null,
            "object_fit": null,
            "object_position": null,
            "order": null,
            "overflow": null,
            "overflow_x": null,
            "overflow_y": null,
            "padding": null,
            "right": null,
            "top": null,
            "visibility": null,
            "width": null
          }
        },
        "3fb41a35305c414e943fb57955d13d97": {
          "model_module": "@jupyter-widgets/controls",
          "model_name": "DescriptionStyleModel",
          "model_module_version": "1.5.0",
          "state": {
            "_model_module": "@jupyter-widgets/controls",
            "_model_module_version": "1.5.0",
            "_model_name": "DescriptionStyleModel",
            "_view_count": null,
            "_view_module": "@jupyter-widgets/base",
            "_view_module_version": "1.2.0",
            "_view_name": "StyleView",
            "description_width": ""
          }
        },
        "56a0a2743d754b11ae3b42b2df33ef19": {
          "model_module": "@jupyter-widgets/base",
          "model_name": "LayoutModel",
          "model_module_version": "1.2.0",
          "state": {
            "_model_module": "@jupyter-widgets/base",
            "_model_module_version": "1.2.0",
            "_model_name": "LayoutModel",
            "_view_count": null,
            "_view_module": "@jupyter-widgets/base",
            "_view_module_version": "1.2.0",
            "_view_name": "LayoutView",
            "align_content": null,
            "align_items": null,
            "align_self": null,
            "border": null,
            "bottom": null,
            "display": null,
            "flex": null,
            "flex_flow": null,
            "grid_area": null,
            "grid_auto_columns": null,
            "grid_auto_flow": null,
            "grid_auto_rows": null,
            "grid_column": null,
            "grid_gap": null,
            "grid_row": null,
            "grid_template_areas": null,
            "grid_template_columns": null,
            "grid_template_rows": null,
            "height": null,
            "justify_content": null,
            "justify_items": null,
            "left": null,
            "margin": null,
            "max_height": null,
            "max_width": null,
            "min_height": null,
            "min_width": null,
            "object_fit": null,
            "object_position": null,
            "order": null,
            "overflow": null,
            "overflow_x": null,
            "overflow_y": null,
            "padding": null,
            "right": null,
            "top": null,
            "visibility": null,
            "width": null
          }
        },
        "80c0b4b3f98f4692b27f0ce1799e9866": {
          "model_module": "@jupyter-widgets/controls",
          "model_name": "ProgressStyleModel",
          "model_module_version": "1.5.0",
          "state": {
            "_model_module": "@jupyter-widgets/controls",
            "_model_module_version": "1.5.0",
            "_model_name": "ProgressStyleModel",
            "_view_count": null,
            "_view_module": "@jupyter-widgets/base",
            "_view_module_version": "1.2.0",
            "_view_name": "StyleView",
            "bar_color": null,
            "description_width": ""
          }
        },
        "67061c20e0e24740807cdfb807e6f359": {
          "model_module": "@jupyter-widgets/base",
          "model_name": "LayoutModel",
          "model_module_version": "1.2.0",
          "state": {
            "_model_module": "@jupyter-widgets/base",
            "_model_module_version": "1.2.0",
            "_model_name": "LayoutModel",
            "_view_count": null,
            "_view_module": "@jupyter-widgets/base",
            "_view_module_version": "1.2.0",
            "_view_name": "LayoutView",
            "align_content": null,
            "align_items": null,
            "align_self": null,
            "border": null,
            "bottom": null,
            "display": null,
            "flex": null,
            "flex_flow": null,
            "grid_area": null,
            "grid_auto_columns": null,
            "grid_auto_flow": null,
            "grid_auto_rows": null,
            "grid_column": null,
            "grid_gap": null,
            "grid_row": null,
            "grid_template_areas": null,
            "grid_template_columns": null,
            "grid_template_rows": null,
            "height": null,
            "justify_content": null,
            "justify_items": null,
            "left": null,
            "margin": null,
            "max_height": null,
            "max_width": null,
            "min_height": null,
            "min_width": null,
            "object_fit": null,
            "object_position": null,
            "order": null,
            "overflow": null,
            "overflow_x": null,
            "overflow_y": null,
            "padding": null,
            "right": null,
            "top": null,
            "visibility": null,
            "width": null
          }
        },
        "ef3d6620916b4567afff692ebc7283f1": {
          "model_module": "@jupyter-widgets/controls",
          "model_name": "DescriptionStyleModel",
          "model_module_version": "1.5.0",
          "state": {
            "_model_module": "@jupyter-widgets/controls",
            "_model_module_version": "1.5.0",
            "_model_name": "DescriptionStyleModel",
            "_view_count": null,
            "_view_module": "@jupyter-widgets/base",
            "_view_module_version": "1.2.0",
            "_view_name": "StyleView",
            "description_width": ""
          }
        },
        "15d8dd60d9794e07a3e5f26b616522fc": {
          "model_module": "@jupyter-widgets/controls",
          "model_name": "HBoxModel",
          "model_module_version": "1.5.0",
          "state": {
            "_dom_classes": [],
            "_model_module": "@jupyter-widgets/controls",
            "_model_module_version": "1.5.0",
            "_model_name": "HBoxModel",
            "_view_count": null,
            "_view_module": "@jupyter-widgets/controls",
            "_view_module_version": "1.5.0",
            "_view_name": "HBoxView",
            "box_style": "",
            "children": [
              "IPY_MODEL_ff0490c8eb59408f952ce52e493bb711",
              "IPY_MODEL_74bbfaabd7f245db8c1f5782d25b97d4",
              "IPY_MODEL_178fa12c69ad4e7b804f2626aa668855"
            ],
            "layout": "IPY_MODEL_30411f82767b42c0b77b01af5031725f"
          }
        },
        "ff0490c8eb59408f952ce52e493bb711": {
          "model_module": "@jupyter-widgets/controls",
          "model_name": "HTMLModel",
          "model_module_version": "1.5.0",
          "state": {
            "_dom_classes": [],
            "_model_module": "@jupyter-widgets/controls",
            "_model_module_version": "1.5.0",
            "_model_name": "HTMLModel",
            "_view_count": null,
            "_view_module": "@jupyter-widgets/controls",
            "_view_module_version": "1.5.0",
            "_view_name": "HTMLView",
            "description": "",
            "description_tooltip": null,
            "layout": "IPY_MODEL_28ec238fcd2e4876ba49c420e97ed419",
            "placeholder": "​",
            "style": "IPY_MODEL_93f2ece9c8904407be0e0301181eda9a",
            "value": "100%"
          }
        },
        "74bbfaabd7f245db8c1f5782d25b97d4": {
          "model_module": "@jupyter-widgets/controls",
          "model_name": "FloatProgressModel",
          "model_module_version": "1.5.0",
          "state": {
            "_dom_classes": [],
            "_model_module": "@jupyter-widgets/controls",
            "_model_module_version": "1.5.0",
            "_model_name": "FloatProgressModel",
            "_view_count": null,
            "_view_module": "@jupyter-widgets/controls",
            "_view_module_version": "1.5.0",
            "_view_name": "ProgressView",
            "bar_style": "success",
            "description": "",
            "description_tooltip": null,
            "layout": "IPY_MODEL_4a4bee6beefb4b5bb282d621096e71bd",
            "max": 3000,
            "min": 0,
            "orientation": "horizontal",
            "style": "IPY_MODEL_13a11d6cd051443d8342ad8e3d383b06",
            "value": 3000
          }
        },
        "178fa12c69ad4e7b804f2626aa668855": {
          "model_module": "@jupyter-widgets/controls",
          "model_name": "HTMLModel",
          "model_module_version": "1.5.0",
          "state": {
            "_dom_classes": [],
            "_model_module": "@jupyter-widgets/controls",
            "_model_module_version": "1.5.0",
            "_model_name": "HTMLModel",
            "_view_count": null,
            "_view_module": "@jupyter-widgets/controls",
            "_view_module_version": "1.5.0",
            "_view_name": "HTMLView",
            "description": "",
            "description_tooltip": null,
            "layout": "IPY_MODEL_538c152157924bd59ad898f294b35774",
            "placeholder": "​",
            "style": "IPY_MODEL_d944e2f269a64d35b7daf36dbddfd52b",
            "value": " 3000/3000 [00:48&lt;00:00, 58.70ex/s]"
          }
        },
        "30411f82767b42c0b77b01af5031725f": {
          "model_module": "@jupyter-widgets/base",
          "model_name": "LayoutModel",
          "model_module_version": "1.2.0",
          "state": {
            "_model_module": "@jupyter-widgets/base",
            "_model_module_version": "1.2.0",
            "_model_name": "LayoutModel",
            "_view_count": null,
            "_view_module": "@jupyter-widgets/base",
            "_view_module_version": "1.2.0",
            "_view_name": "LayoutView",
            "align_content": null,
            "align_items": null,
            "align_self": null,
            "border": null,
            "bottom": null,
            "display": null,
            "flex": null,
            "flex_flow": null,
            "grid_area": null,
            "grid_auto_columns": null,
            "grid_auto_flow": null,
            "grid_auto_rows": null,
            "grid_column": null,
            "grid_gap": null,
            "grid_row": null,
            "grid_template_areas": null,
            "grid_template_columns": null,
            "grid_template_rows": null,
            "height": null,
            "justify_content": null,
            "justify_items": null,
            "left": null,
            "margin": null,
            "max_height": null,
            "max_width": null,
            "min_height": null,
            "min_width": null,
            "object_fit": null,
            "object_position": null,
            "order": null,
            "overflow": null,
            "overflow_x": null,
            "overflow_y": null,
            "padding": null,
            "right": null,
            "top": null,
            "visibility": null,
            "width": null
          }
        },
        "28ec238fcd2e4876ba49c420e97ed419": {
          "model_module": "@jupyter-widgets/base",
          "model_name": "LayoutModel",
          "model_module_version": "1.2.0",
          "state": {
            "_model_module": "@jupyter-widgets/base",
            "_model_module_version": "1.2.0",
            "_model_name": "LayoutModel",
            "_view_count": null,
            "_view_module": "@jupyter-widgets/base",
            "_view_module_version": "1.2.0",
            "_view_name": "LayoutView",
            "align_content": null,
            "align_items": null,
            "align_self": null,
            "border": null,
            "bottom": null,
            "display": null,
            "flex": null,
            "flex_flow": null,
            "grid_area": null,
            "grid_auto_columns": null,
            "grid_auto_flow": null,
            "grid_auto_rows": null,
            "grid_column": null,
            "grid_gap": null,
            "grid_row": null,
            "grid_template_areas": null,
            "grid_template_columns": null,
            "grid_template_rows": null,
            "height": null,
            "justify_content": null,
            "justify_items": null,
            "left": null,
            "margin": null,
            "max_height": null,
            "max_width": null,
            "min_height": null,
            "min_width": null,
            "object_fit": null,
            "object_position": null,
            "order": null,
            "overflow": null,
            "overflow_x": null,
            "overflow_y": null,
            "padding": null,
            "right": null,
            "top": null,
            "visibility": null,
            "width": null
          }
        },
        "93f2ece9c8904407be0e0301181eda9a": {
          "model_module": "@jupyter-widgets/controls",
          "model_name": "DescriptionStyleModel",
          "model_module_version": "1.5.0",
          "state": {
            "_model_module": "@jupyter-widgets/controls",
            "_model_module_version": "1.5.0",
            "_model_name": "DescriptionStyleModel",
            "_view_count": null,
            "_view_module": "@jupyter-widgets/base",
            "_view_module_version": "1.2.0",
            "_view_name": "StyleView",
            "description_width": ""
          }
        },
        "4a4bee6beefb4b5bb282d621096e71bd": {
          "model_module": "@jupyter-widgets/base",
          "model_name": "LayoutModel",
          "model_module_version": "1.2.0",
          "state": {
            "_model_module": "@jupyter-widgets/base",
            "_model_module_version": "1.2.0",
            "_model_name": "LayoutModel",
            "_view_count": null,
            "_view_module": "@jupyter-widgets/base",
            "_view_module_version": "1.2.0",
            "_view_name": "LayoutView",
            "align_content": null,
            "align_items": null,
            "align_self": null,
            "border": null,
            "bottom": null,
            "display": null,
            "flex": null,
            "flex_flow": null,
            "grid_area": null,
            "grid_auto_columns": null,
            "grid_auto_flow": null,
            "grid_auto_rows": null,
            "grid_column": null,
            "grid_gap": null,
            "grid_row": null,
            "grid_template_areas": null,
            "grid_template_columns": null,
            "grid_template_rows": null,
            "height": null,
            "justify_content": null,
            "justify_items": null,
            "left": null,
            "margin": null,
            "max_height": null,
            "max_width": null,
            "min_height": null,
            "min_width": null,
            "object_fit": null,
            "object_position": null,
            "order": null,
            "overflow": null,
            "overflow_x": null,
            "overflow_y": null,
            "padding": null,
            "right": null,
            "top": null,
            "visibility": null,
            "width": null
          }
        },
        "13a11d6cd051443d8342ad8e3d383b06": {
          "model_module": "@jupyter-widgets/controls",
          "model_name": "ProgressStyleModel",
          "model_module_version": "1.5.0",
          "state": {
            "_model_module": "@jupyter-widgets/controls",
            "_model_module_version": "1.5.0",
            "_model_name": "ProgressStyleModel",
            "_view_count": null,
            "_view_module": "@jupyter-widgets/base",
            "_view_module_version": "1.2.0",
            "_view_name": "StyleView",
            "bar_color": null,
            "description_width": ""
          }
        },
        "538c152157924bd59ad898f294b35774": {
          "model_module": "@jupyter-widgets/base",
          "model_name": "LayoutModel",
          "model_module_version": "1.2.0",
          "state": {
            "_model_module": "@jupyter-widgets/base",
            "_model_module_version": "1.2.0",
            "_model_name": "LayoutModel",
            "_view_count": null,
            "_view_module": "@jupyter-widgets/base",
            "_view_module_version": "1.2.0",
            "_view_name": "LayoutView",
            "align_content": null,
            "align_items": null,
            "align_self": null,
            "border": null,
            "bottom": null,
            "display": null,
            "flex": null,
            "flex_flow": null,
            "grid_area": null,
            "grid_auto_columns": null,
            "grid_auto_flow": null,
            "grid_auto_rows": null,
            "grid_column": null,
            "grid_gap": null,
            "grid_row": null,
            "grid_template_areas": null,
            "grid_template_columns": null,
            "grid_template_rows": null,
            "height": null,
            "justify_content": null,
            "justify_items": null,
            "left": null,
            "margin": null,
            "max_height": null,
            "max_width": null,
            "min_height": null,
            "min_width": null,
            "object_fit": null,
            "object_position": null,
            "order": null,
            "overflow": null,
            "overflow_x": null,
            "overflow_y": null,
            "padding": null,
            "right": null,
            "top": null,
            "visibility": null,
            "width": null
          }
        },
        "d944e2f269a64d35b7daf36dbddfd52b": {
          "model_module": "@jupyter-widgets/controls",
          "model_name": "DescriptionStyleModel",
          "model_module_version": "1.5.0",
          "state": {
            "_model_module": "@jupyter-widgets/controls",
            "_model_module_version": "1.5.0",
            "_model_name": "DescriptionStyleModel",
            "_view_count": null,
            "_view_module": "@jupyter-widgets/base",
            "_view_module_version": "1.2.0",
            "_view_name": "StyleView",
            "description_width": ""
          }
        },
        "da5ca449cde0483783214593625e23ae": {
          "model_module": "@jupyter-widgets/controls",
          "model_name": "HBoxModel",
          "model_module_version": "1.5.0",
          "state": {
            "_dom_classes": [],
            "_model_module": "@jupyter-widgets/controls",
            "_model_module_version": "1.5.0",
            "_model_name": "HBoxModel",
            "_view_count": null,
            "_view_module": "@jupyter-widgets/controls",
            "_view_module_version": "1.5.0",
            "_view_name": "HBoxView",
            "box_style": "",
            "children": [
              "IPY_MODEL_5eae6e0fd6e44817a1dc04c81d4f3bc0",
              "IPY_MODEL_a0f84f4d85754375965f36240c222a85",
              "IPY_MODEL_61149d8f19f74aa1884c1c87b4cf2321"
            ],
            "layout": "IPY_MODEL_dfcdf2de5c9c44ccb8e6593b243d5059"
          }
        },
        "5eae6e0fd6e44817a1dc04c81d4f3bc0": {
          "model_module": "@jupyter-widgets/controls",
          "model_name": "HTMLModel",
          "model_module_version": "1.5.0",
          "state": {
            "_dom_classes": [],
            "_model_module": "@jupyter-widgets/controls",
            "_model_module_version": "1.5.0",
            "_model_name": "HTMLModel",
            "_view_count": null,
            "_view_module": "@jupyter-widgets/controls",
            "_view_module_version": "1.5.0",
            "_view_name": "HTMLView",
            "description": "",
            "description_tooltip": null,
            "layout": "IPY_MODEL_58213caaf7894290938220648b3dee34",
            "placeholder": "​",
            "style": "IPY_MODEL_5e46cc33de884c529b767e2989b75904",
            "value": "100%"
          }
        },
        "a0f84f4d85754375965f36240c222a85": {
          "model_module": "@jupyter-widgets/controls",
          "model_name": "FloatProgressModel",
          "model_module_version": "1.5.0",
          "state": {
            "_dom_classes": [],
            "_model_module": "@jupyter-widgets/controls",
            "_model_module_version": "1.5.0",
            "_model_name": "FloatProgressModel",
            "_view_count": null,
            "_view_module": "@jupyter-widgets/controls",
            "_view_module_version": "1.5.0",
            "_view_name": "ProgressView",
            "bar_style": "success",
            "description": "",
            "description_tooltip": null,
            "layout": "IPY_MODEL_31add87a6d4d43b89a41c4904e36e13f",
            "max": 1000,
            "min": 0,
            "orientation": "horizontal",
            "style": "IPY_MODEL_7b8ddaa94d614e60a17c3478cd13540e",
            "value": 1000
          }
        },
        "61149d8f19f74aa1884c1c87b4cf2321": {
          "model_module": "@jupyter-widgets/controls",
          "model_name": "HTMLModel",
          "model_module_version": "1.5.0",
          "state": {
            "_dom_classes": [],
            "_model_module": "@jupyter-widgets/controls",
            "_model_module_version": "1.5.0",
            "_model_name": "HTMLModel",
            "_view_count": null,
            "_view_module": "@jupyter-widgets/controls",
            "_view_module_version": "1.5.0",
            "_view_name": "HTMLView",
            "description": "",
            "description_tooltip": null,
            "layout": "IPY_MODEL_4e97ed4cc91c48cd842d7f402495f3dd",
            "placeholder": "​",
            "style": "IPY_MODEL_91727caf576f48d89d985b2c731e7f74",
            "value": " 1000/1000 [00:18&lt;00:00, 42.65ex/s]"
          }
        },
        "dfcdf2de5c9c44ccb8e6593b243d5059": {
          "model_module": "@jupyter-widgets/base",
          "model_name": "LayoutModel",
          "model_module_version": "1.2.0",
          "state": {
            "_model_module": "@jupyter-widgets/base",
            "_model_module_version": "1.2.0",
            "_model_name": "LayoutModel",
            "_view_count": null,
            "_view_module": "@jupyter-widgets/base",
            "_view_module_version": "1.2.0",
            "_view_name": "LayoutView",
            "align_content": null,
            "align_items": null,
            "align_self": null,
            "border": null,
            "bottom": null,
            "display": null,
            "flex": null,
            "flex_flow": null,
            "grid_area": null,
            "grid_auto_columns": null,
            "grid_auto_flow": null,
            "grid_auto_rows": null,
            "grid_column": null,
            "grid_gap": null,
            "grid_row": null,
            "grid_template_areas": null,
            "grid_template_columns": null,
            "grid_template_rows": null,
            "height": null,
            "justify_content": null,
            "justify_items": null,
            "left": null,
            "margin": null,
            "max_height": null,
            "max_width": null,
            "min_height": null,
            "min_width": null,
            "object_fit": null,
            "object_position": null,
            "order": null,
            "overflow": null,
            "overflow_x": null,
            "overflow_y": null,
            "padding": null,
            "right": null,
            "top": null,
            "visibility": null,
            "width": null
          }
        },
        "58213caaf7894290938220648b3dee34": {
          "model_module": "@jupyter-widgets/base",
          "model_name": "LayoutModel",
          "model_module_version": "1.2.0",
          "state": {
            "_model_module": "@jupyter-widgets/base",
            "_model_module_version": "1.2.0",
            "_model_name": "LayoutModel",
            "_view_count": null,
            "_view_module": "@jupyter-widgets/base",
            "_view_module_version": "1.2.0",
            "_view_name": "LayoutView",
            "align_content": null,
            "align_items": null,
            "align_self": null,
            "border": null,
            "bottom": null,
            "display": null,
            "flex": null,
            "flex_flow": null,
            "grid_area": null,
            "grid_auto_columns": null,
            "grid_auto_flow": null,
            "grid_auto_rows": null,
            "grid_column": null,
            "grid_gap": null,
            "grid_row": null,
            "grid_template_areas": null,
            "grid_template_columns": null,
            "grid_template_rows": null,
            "height": null,
            "justify_content": null,
            "justify_items": null,
            "left": null,
            "margin": null,
            "max_height": null,
            "max_width": null,
            "min_height": null,
            "min_width": null,
            "object_fit": null,
            "object_position": null,
            "order": null,
            "overflow": null,
            "overflow_x": null,
            "overflow_y": null,
            "padding": null,
            "right": null,
            "top": null,
            "visibility": null,
            "width": null
          }
        },
        "5e46cc33de884c529b767e2989b75904": {
          "model_module": "@jupyter-widgets/controls",
          "model_name": "DescriptionStyleModel",
          "model_module_version": "1.5.0",
          "state": {
            "_model_module": "@jupyter-widgets/controls",
            "_model_module_version": "1.5.0",
            "_model_name": "DescriptionStyleModel",
            "_view_count": null,
            "_view_module": "@jupyter-widgets/base",
            "_view_module_version": "1.2.0",
            "_view_name": "StyleView",
            "description_width": ""
          }
        },
        "31add87a6d4d43b89a41c4904e36e13f": {
          "model_module": "@jupyter-widgets/base",
          "model_name": "LayoutModel",
          "model_module_version": "1.2.0",
          "state": {
            "_model_module": "@jupyter-widgets/base",
            "_model_module_version": "1.2.0",
            "_model_name": "LayoutModel",
            "_view_count": null,
            "_view_module": "@jupyter-widgets/base",
            "_view_module_version": "1.2.0",
            "_view_name": "LayoutView",
            "align_content": null,
            "align_items": null,
            "align_self": null,
            "border": null,
            "bottom": null,
            "display": null,
            "flex": null,
            "flex_flow": null,
            "grid_area": null,
            "grid_auto_columns": null,
            "grid_auto_flow": null,
            "grid_auto_rows": null,
            "grid_column": null,
            "grid_gap": null,
            "grid_row": null,
            "grid_template_areas": null,
            "grid_template_columns": null,
            "grid_template_rows": null,
            "height": null,
            "justify_content": null,
            "justify_items": null,
            "left": null,
            "margin": null,
            "max_height": null,
            "max_width": null,
            "min_height": null,
            "min_width": null,
            "object_fit": null,
            "object_position": null,
            "order": null,
            "overflow": null,
            "overflow_x": null,
            "overflow_y": null,
            "padding": null,
            "right": null,
            "top": null,
            "visibility": null,
            "width": null
          }
        },
        "7b8ddaa94d614e60a17c3478cd13540e": {
          "model_module": "@jupyter-widgets/controls",
          "model_name": "ProgressStyleModel",
          "model_module_version": "1.5.0",
          "state": {
            "_model_module": "@jupyter-widgets/controls",
            "_model_module_version": "1.5.0",
            "_model_name": "ProgressStyleModel",
            "_view_count": null,
            "_view_module": "@jupyter-widgets/base",
            "_view_module_version": "1.2.0",
            "_view_name": "StyleView",
            "bar_color": null,
            "description_width": ""
          }
        },
        "4e97ed4cc91c48cd842d7f402495f3dd": {
          "model_module": "@jupyter-widgets/base",
          "model_name": "LayoutModel",
          "model_module_version": "1.2.0",
          "state": {
            "_model_module": "@jupyter-widgets/base",
            "_model_module_version": "1.2.0",
            "_model_name": "LayoutModel",
            "_view_count": null,
            "_view_module": "@jupyter-widgets/base",
            "_view_module_version": "1.2.0",
            "_view_name": "LayoutView",
            "align_content": null,
            "align_items": null,
            "align_self": null,
            "border": null,
            "bottom": null,
            "display": null,
            "flex": null,
            "flex_flow": null,
            "grid_area": null,
            "grid_auto_columns": null,
            "grid_auto_flow": null,
            "grid_auto_rows": null,
            "grid_column": null,
            "grid_gap": null,
            "grid_row": null,
            "grid_template_areas": null,
            "grid_template_columns": null,
            "grid_template_rows": null,
            "height": null,
            "justify_content": null,
            "justify_items": null,
            "left": null,
            "margin": null,
            "max_height": null,
            "max_width": null,
            "min_height": null,
            "min_width": null,
            "object_fit": null,
            "object_position": null,
            "order": null,
            "overflow": null,
            "overflow_x": null,
            "overflow_y": null,
            "padding": null,
            "right": null,
            "top": null,
            "visibility": null,
            "width": null
          }
        },
        "91727caf576f48d89d985b2c731e7f74": {
          "model_module": "@jupyter-widgets/controls",
          "model_name": "DescriptionStyleModel",
          "model_module_version": "1.5.0",
          "state": {
            "_model_module": "@jupyter-widgets/controls",
            "_model_module_version": "1.5.0",
            "_model_name": "DescriptionStyleModel",
            "_view_count": null,
            "_view_module": "@jupyter-widgets/base",
            "_view_module_version": "1.2.0",
            "_view_name": "StyleView",
            "description_width": ""
          }
        }
      }
    }
  },
  "cells": [
    {
      "cell_type": "markdown",
      "metadata": {
        "id": "u2UXutvEvpUj"
      },
      "source": [
        "# Question Answering with BERT and HuggingFace 🤗 (Fine-tuning)\n",
        "\n",
        "In the previous Hugging Face ungraded lab, you saw how to use the pipeline objects to use transformer models for NLP tasks. I showed you that the model didn't output the desired answers to a series of precise questions for a context related to the history of comic books. \n",
        "\n",
        "In this lab, you will fine-tune the model from that lab to give better answers for that type of context. To do that, you'll be using the [TyDi QA dataset](https://ai.google.com/research/tydiqa) but on a filtered version with only English examples. Additionally, you will use a lot of the tools that Hugging Face has to offer.\n",
        "\n",
        "You have to note that, in general, you will fine-tune general-purpose transformer models to work for specific tasks. However, fine-tuning a general-purpose model can take a lot of time. That's why you will be using the model from the question answering pipeline in this lab. \n",
        "\n",
        "First, let's install some packages that you will use during the lab."
      ]
    },
    {
      "cell_type": "code",
      "metadata": {
        "id": "7rW5HyNyv3YC",
        "colab": {
          "base_uri": "https://localhost:8080/"
        },
        "outputId": "31b116f0-707d-481e-dba2-dbaf51bda1a2"
      },
      "source": [
        "!pip install transformers datasets torch;"
      ],
      "execution_count": 1,
      "outputs": [
        {
          "output_type": "stream",
          "name": "stdout",
          "text": [
            "Looking in indexes: https://pypi.org/simple, https://us-python.pkg.dev/colab-wheels/public/simple/\n",
            "Collecting transformers\n",
            "  Downloading transformers-4.19.2-py3-none-any.whl (4.2 MB)\n",
            "\u001b[K     |████████████████████████████████| 4.2 MB 4.9 MB/s \n",
            "\u001b[?25hCollecting datasets\n",
            "  Downloading datasets-2.2.2-py3-none-any.whl (346 kB)\n",
            "\u001b[K     |████████████████████████████████| 346 kB 69.4 MB/s \n",
            "\u001b[?25hRequirement already satisfied: torch in /usr/local/lib/python3.7/dist-packages (1.11.0+cu113)\n",
            "Requirement already satisfied: requests in /usr/local/lib/python3.7/dist-packages (from transformers) (2.23.0)\n",
            "Requirement already satisfied: filelock in /usr/local/lib/python3.7/dist-packages (from transformers) (3.7.0)\n",
            "Requirement already satisfied: numpy>=1.17 in /usr/local/lib/python3.7/dist-packages (from transformers) (1.21.6)\n",
            "Collecting tokenizers!=0.11.3,<0.13,>=0.11.1\n",
            "  Downloading tokenizers-0.12.1-cp37-cp37m-manylinux_2_12_x86_64.manylinux2010_x86_64.whl (6.6 MB)\n",
            "\u001b[K     |████████████████████████████████| 6.6 MB 48.8 MB/s \n",
            "\u001b[?25hRequirement already satisfied: tqdm>=4.27 in /usr/local/lib/python3.7/dist-packages (from transformers) (4.64.0)\n",
            "Collecting pyyaml>=5.1\n",
            "  Downloading PyYAML-6.0-cp37-cp37m-manylinux_2_5_x86_64.manylinux1_x86_64.manylinux_2_12_x86_64.manylinux2010_x86_64.whl (596 kB)\n",
            "\u001b[K     |████████████████████████████████| 596 kB 60.9 MB/s \n",
            "\u001b[?25hRequirement already satisfied: importlib-metadata in /usr/local/lib/python3.7/dist-packages (from transformers) (4.11.4)\n",
            "Collecting huggingface-hub<1.0,>=0.1.0\n",
            "  Downloading huggingface_hub-0.7.0-py3-none-any.whl (86 kB)\n",
            "\u001b[K     |████████████████████████████████| 86 kB 7.4 MB/s \n",
            "\u001b[?25hRequirement already satisfied: regex!=2019.12.17 in /usr/local/lib/python3.7/dist-packages (from transformers) (2019.12.20)\n",
            "Requirement already satisfied: packaging>=20.0 in /usr/local/lib/python3.7/dist-packages (from transformers) (21.3)\n",
            "Requirement already satisfied: typing-extensions>=3.7.4.3 in /usr/local/lib/python3.7/dist-packages (from huggingface-hub<1.0,>=0.1.0->transformers) (4.2.0)\n",
            "Requirement already satisfied: pyparsing!=3.0.5,>=2.0.2 in /usr/local/lib/python3.7/dist-packages (from packaging>=20.0->transformers) (3.0.9)\n",
            "Requirement already satisfied: multiprocess in /usr/local/lib/python3.7/dist-packages (from datasets) (0.70.13)\n",
            "Requirement already satisfied: pyarrow>=6.0.0 in /usr/local/lib/python3.7/dist-packages (from datasets) (6.0.1)\n",
            "Collecting aiohttp\n",
            "  Downloading aiohttp-3.8.1-cp37-cp37m-manylinux_2_5_x86_64.manylinux1_x86_64.manylinux_2_12_x86_64.manylinux2010_x86_64.whl (1.1 MB)\n",
            "\u001b[K     |████████████████████████████████| 1.1 MB 61.1 MB/s \n",
            "\u001b[?25hCollecting dill<0.3.5\n",
            "  Downloading dill-0.3.4-py2.py3-none-any.whl (86 kB)\n",
            "\u001b[K     |████████████████████████████████| 86 kB 8.3 MB/s \n",
            "\u001b[?25hRequirement already satisfied: pandas in /usr/local/lib/python3.7/dist-packages (from datasets) (1.3.5)\n",
            "Collecting fsspec[http]>=2021.05.0\n",
            "  Downloading fsspec-2022.5.0-py3-none-any.whl (140 kB)\n",
            "\u001b[K     |████████████████████████████████| 140 kB 73.5 MB/s \n",
            "\u001b[?25hCollecting xxhash\n",
            "  Downloading xxhash-3.0.0-cp37-cp37m-manylinux_2_17_x86_64.manylinux2014_x86_64.whl (212 kB)\n",
            "\u001b[K     |████████████████████████████████| 212 kB 76.0 MB/s \n",
            "\u001b[?25hCollecting responses<0.19\n",
            "  Downloading responses-0.18.0-py3-none-any.whl (38 kB)\n",
            "Requirement already satisfied: idna<3,>=2.5 in /usr/local/lib/python3.7/dist-packages (from requests->transformers) (2.10)\n",
            "Requirement already satisfied: chardet<4,>=3.0.2 in /usr/local/lib/python3.7/dist-packages (from requests->transformers) (3.0.4)\n",
            "Requirement already satisfied: certifi>=2017.4.17 in /usr/local/lib/python3.7/dist-packages (from requests->transformers) (2022.5.18.1)\n",
            "Requirement already satisfied: urllib3!=1.25.0,!=1.25.1,<1.26,>=1.21.1 in /usr/local/lib/python3.7/dist-packages (from requests->transformers) (1.24.3)\n",
            "Collecting urllib3!=1.25.0,!=1.25.1,<1.26,>=1.21.1\n",
            "  Downloading urllib3-1.25.11-py2.py3-none-any.whl (127 kB)\n",
            "\u001b[K     |████████████████████████████████| 127 kB 75.0 MB/s \n",
            "\u001b[?25hCollecting asynctest==0.13.0\n",
            "  Downloading asynctest-0.13.0-py3-none-any.whl (26 kB)\n",
            "Collecting async-timeout<5.0,>=4.0.0a3\n",
            "  Downloading async_timeout-4.0.2-py3-none-any.whl (5.8 kB)\n",
            "Collecting frozenlist>=1.1.1\n",
            "  Downloading frozenlist-1.3.0-cp37-cp37m-manylinux_2_5_x86_64.manylinux1_x86_64.manylinux_2_17_x86_64.manylinux2014_x86_64.whl (144 kB)\n",
            "\u001b[K     |████████████████████████████████| 144 kB 74.1 MB/s \n",
            "\u001b[?25hCollecting multidict<7.0,>=4.5\n",
            "  Downloading multidict-6.0.2-cp37-cp37m-manylinux_2_17_x86_64.manylinux2014_x86_64.whl (94 kB)\n",
            "\u001b[K     |████████████████████████████████| 94 kB 4.8 MB/s \n",
            "\u001b[?25hRequirement already satisfied: charset-normalizer<3.0,>=2.0 in /usr/local/lib/python3.7/dist-packages (from aiohttp->datasets) (2.0.12)\n",
            "Requirement already satisfied: attrs>=17.3.0 in /usr/local/lib/python3.7/dist-packages (from aiohttp->datasets) (21.4.0)\n",
            "Collecting yarl<2.0,>=1.0\n",
            "  Downloading yarl-1.7.2-cp37-cp37m-manylinux_2_5_x86_64.manylinux1_x86_64.manylinux_2_12_x86_64.manylinux2010_x86_64.whl (271 kB)\n",
            "\u001b[K     |████████████████████████████████| 271 kB 74.7 MB/s \n",
            "\u001b[?25hCollecting aiosignal>=1.1.2\n",
            "  Downloading aiosignal-1.2.0-py3-none-any.whl (8.2 kB)\n",
            "Requirement already satisfied: zipp>=0.5 in /usr/local/lib/python3.7/dist-packages (from importlib-metadata->transformers) (3.8.0)\n",
            "Collecting multiprocess\n",
            "  Downloading multiprocess-0.70.12.2-py37-none-any.whl (112 kB)\n",
            "\u001b[K     |████████████████████████████████| 112 kB 75.1 MB/s \n",
            "\u001b[?25hRequirement already satisfied: pytz>=2017.3 in /usr/local/lib/python3.7/dist-packages (from pandas->datasets) (2022.1)\n",
            "Requirement already satisfied: python-dateutil>=2.7.3 in /usr/local/lib/python3.7/dist-packages (from pandas->datasets) (2.8.2)\n",
            "Requirement already satisfied: six>=1.5 in /usr/local/lib/python3.7/dist-packages (from python-dateutil>=2.7.3->pandas->datasets) (1.15.0)\n",
            "Installing collected packages: multidict, frozenlist, yarl, urllib3, asynctest, async-timeout, aiosignal, pyyaml, fsspec, dill, aiohttp, xxhash, tokenizers, responses, multiprocess, huggingface-hub, transformers, datasets\n",
            "  Attempting uninstall: urllib3\n",
            "    Found existing installation: urllib3 1.24.3\n",
            "    Uninstalling urllib3-1.24.3:\n",
            "      Successfully uninstalled urllib3-1.24.3\n",
            "  Attempting uninstall: pyyaml\n",
            "    Found existing installation: PyYAML 3.13\n",
            "    Uninstalling PyYAML-3.13:\n",
            "      Successfully uninstalled PyYAML-3.13\n",
            "  Attempting uninstall: dill\n",
            "    Found existing installation: dill 0.3.5.1\n",
            "    Uninstalling dill-0.3.5.1:\n",
            "      Successfully uninstalled dill-0.3.5.1\n",
            "  Attempting uninstall: multiprocess\n",
            "    Found existing installation: multiprocess 0.70.13\n",
            "    Uninstalling multiprocess-0.70.13:\n",
            "      Successfully uninstalled multiprocess-0.70.13\n",
            "\u001b[31mERROR: pip's dependency resolver does not currently take into account all the packages that are installed. This behaviour is the source of the following dependency conflicts.\n",
            "datascience 0.10.6 requires folium==0.2.1, but you have folium 0.8.3 which is incompatible.\u001b[0m\n",
            "Successfully installed aiohttp-3.8.1 aiosignal-1.2.0 async-timeout-4.0.2 asynctest-0.13.0 datasets-2.2.2 dill-0.3.4 frozenlist-1.3.0 fsspec-2022.5.0 huggingface-hub-0.7.0 multidict-6.0.2 multiprocess-0.70.12.2 pyyaml-6.0 responses-0.18.0 tokenizers-0.12.1 transformers-4.19.2 urllib3-1.25.11 xxhash-3.0.0 yarl-1.7.2\n"
          ]
        }
      ]
    },
    {
      "cell_type": "markdown",
      "metadata": {
        "id": "FrEglXPmvpUr"
      },
      "source": [
        "## Fine-tuning a BERT model\n",
        "\n",
        "As you saw in the previous lab, you can use these pipelines as they are. But sometimes, you'll need something more specific to your problem, or maybe you need it to perform better on your production data. In these cases, you'll need to fine-tune a model.\n",
        "\n",
        "Here, you'll fine-tune a pre-trained DistilBERT model on the TyDi QA dataset. \n",
        "\n",
        "To fine-tune your model, you will leverage three components provided by Hugging Face:\n",
        "\n",
        "* Datasets: Library that contains some datasets and different metrics to evaluate the performance of your models.\n",
        "* Tokenizer: Object in charge of preprocessing your text to be given as input for the transformer models. \n",
        "* Transformers: Library with the pre-trained model checkpoints and the trainer object. \n",
        "\n"
      ]
    },
    {
      "cell_type": "markdown",
      "metadata": {
        "id": "g0Rg-e4jBFFs"
      },
      "source": [
        "### Datasets\n",
        "\n",
        "To get the dataset to fine-tune your model, you will use [🤗 Datasets](https://huggingface.co/docs/datasets/), a lightweight and extensible library to share and access datasets and evaluation metrics for NLP easily. You can download Hugging Face datasets directly using the `load_dataset` function from the `datasets` library. Although the most common approach is to use `load_dataset`, for this lab you will use a filtered version containing only the English examples. You can read them from a public GCP bucket and use the `load_from_disk` function.\n",
        "\n",
        "Hugging Face `datasets` allows to load data in several formats, such as CSV, JSON, text files and even parquet. You can see more about the supported formats in the [documentation](https://huggingface.co/docs/datasets/loading.html)\n",
        "\n",
        "We already prepared the dataset for you, so you don't need to uncomment the code from the cell below if you don't want to load all the data and then filter the English examples. If you want to download the dataset by yourself, you can uncomment the following cell and then jump to the [cell](#datasets_type) in which you can see the type of object you get after loading the dataset."
      ]
    },
    {
      "cell_type": "code",
      "metadata": {
        "id": "NKRe_dD0J4E0"
      },
      "source": [
        "# You can download the dataset and process it to obtain the same dataset we are loading from disk\n",
        "# Uncomment the following lines to download the dataset directly\n",
        "# from datasets import load_dataset\n",
        "# train_data = load_dataset('tydiqa', 'primary_task')\n",
        "# tydiqa_data =  train_data.filter(lambda example: example['language'] == 'english')"
      ],
      "execution_count": 2,
      "outputs": []
    },
    {
      "cell_type": "markdown",
      "metadata": {
        "id": "oS-ZAEylgg5e"
      },
      "source": [
        "If you want to use the dataset provided by us, please run the following cells. First, we will download the dataset from the GCP bucket."
      ]
    },
    {
      "cell_type": "code",
      "metadata": {
        "id": "3ceaiHQyPFv_",
        "colab": {
          "base_uri": "https://localhost:8080/"
        },
        "outputId": "189028db-f26e-47a1-d473-0df071829631"
      },
      "source": [
        "# Download dataset from bucket.\n",
        "!wget https://storage.googleapis.com/nlprefresh-public/tydiqa_data.zip"
      ],
      "execution_count": 3,
      "outputs": [
        {
          "output_type": "stream",
          "name": "stdout",
          "text": [
            "--2022-06-03 05:26:13--  https://storage.googleapis.com/nlprefresh-public/tydiqa_data.zip\n",
            "Resolving storage.googleapis.com (storage.googleapis.com)... 142.250.159.128, 142.251.120.128, 142.251.161.128, ...\n",
            "Connecting to storage.googleapis.com (storage.googleapis.com)|142.250.159.128|:443... connected.\n",
            "HTTP request sent, awaiting response... 200 OK\n",
            "Length: 333821654 (318M) [application/zip]\n",
            "Saving to: ‘tydiqa_data.zip’\n",
            "\n",
            "tydiqa_data.zip     100%[===================>] 318.36M   167MB/s    in 1.9s    \n",
            "\n",
            "2022-06-03 05:26:15 (167 MB/s) - ‘tydiqa_data.zip’ saved [333821654/333821654]\n",
            "\n"
          ]
        }
      ]
    },
    {
      "cell_type": "code",
      "metadata": {
        "id": "NtfXWozHZ6oZ",
        "colab": {
          "base_uri": "https://localhost:8080/"
        },
        "outputId": "78dd8f39-bc61-4c20-8883-d2edfda8004c"
      },
      "source": [
        "# Uncomment if you want to check the size of the file. It should be around 319M.\n",
        "!ls -alh tydiqa_data.zip"
      ],
      "execution_count": 4,
      "outputs": [
        {
          "output_type": "stream",
          "name": "stdout",
          "text": [
            "-rw-r--r-- 1 root root 319M Sep  9  2021 tydiqa_data.zip\n"
          ]
        }
      ]
    },
    {
      "cell_type": "markdown",
      "metadata": {
        "id": "t0f3Q5V0lZh5"
      },
      "source": [
        "Now, let's unzip the dataset"
      ]
    },
    {
      "cell_type": "code",
      "metadata": {
        "id": "mfB5xT-DZjbn",
        "colab": {
          "base_uri": "https://localhost:8080/"
        },
        "outputId": "ce795458-0b57-4d43-aa3f-94563fe22545"
      },
      "source": [
        "# Unzip inside the dataset folder\n",
        "!unzip tydiqa_data"
      ],
      "execution_count": 5,
      "outputs": [
        {
          "output_type": "stream",
          "name": "stdout",
          "text": [
            "Archive:  tydiqa_data.zip\n",
            "  inflating: tydiqa_data/validation/dataset_info.json  \n",
            "  inflating: tydiqa_data/dataset_dict.json  \n",
            "  inflating: tydiqa_data/train/state.json  \n",
            "  inflating: tydiqa_data/train/dataset_info.json  \n",
            "  inflating: tydiqa_data/validation/dataset.arrow  \n",
            "  inflating: tydiqa_data/validation/cache-32664b2bb6ecb93c.arrow  \n",
            "  inflating: tydiqa_data/validation/cache-981c6a4602432980.arrow  \n",
            "  inflating: tydiqa_data/validation/cache-0adce067eac1391a.arrow  \n",
            "  inflating: tydiqa_data/validation/cache-22dd192df839003a.arrow  \n",
            "  inflating: tydiqa_data/validation/cache-de50d25427e34427.arrow  \n",
            "  inflating: tydiqa_data/train/cache-a7d4fcf0afedf699.arrow  \n",
            "  inflating: tydiqa_data/train/cache-bec06ea6cf14cfc1.arrow  \n",
            "  inflating: tydiqa_data/validation/state.json  \n",
            "  inflating: tydiqa_data/train/dataset.arrow  \n",
            "  inflating: tydiqa_data/train/cache-ce4e04eb371cb7de.arrow  \n"
          ]
        }
      ]
    },
    {
      "cell_type": "markdown",
      "metadata": {
        "id": "ufqLptl1S_a6"
      },
      "source": [
        "Given that we used Apache Arrow format to save the dataset, you have to use the `load_from_disk` function from the `datasets` library to load it. To access the preprocessed dataset we created, you should execute the following commands."
      ]
    },
    {
      "cell_type": "code",
      "metadata": {
        "id": "x68dqaoXg5Ra",
        "colab": {
          "base_uri": "https://localhost:8080/"
        },
        "outputId": "3b389513-1a71-47ec-8265-524a7429542c"
      },
      "source": [
        "# Execute this cell if you will use the data we processed instead of downloading it.\n",
        "from datasets import load_from_disk\n",
        "\n",
        "#The path where the dataset is stored\n",
        "path = '/content/tydiqa_data/'\n",
        "\n",
        "#Load Dataset\n",
        "tydiqa_data = load_from_disk(path)\n",
        "\n",
        "tydiqa_data"
      ],
      "execution_count": 6,
      "outputs": [
        {
          "output_type": "execute_result",
          "data": {
            "text/plain": [
              "DatasetDict({\n",
              "    train: Dataset({\n",
              "        features: ['passage_answer_candidates', 'question_text', 'document_title', 'language', 'annotations', 'document_plaintext', 'document_url'],\n",
              "        num_rows: 9211\n",
              "    })\n",
              "    validation: Dataset({\n",
              "        features: ['passage_answer_candidates', 'question_text', 'document_title', 'language', 'annotations', 'document_plaintext', 'document_url'],\n",
              "        num_rows: 1031\n",
              "    })\n",
              "})"
            ]
          },
          "metadata": {},
          "execution_count": 6
        }
      ]
    },
    {
      "cell_type": "markdown",
      "metadata": {
        "id": "1hfzBZU3T47O"
      },
      "source": [
        "<a id='datasets_type'></a>\n",
        "You can check below that the type of the loaded dataset is a `datasets.arrow_dataset.Dataset`. This object type corresponds to an Apache Arrow Table that allows creating a hash table that contains the position in memory where data is stored instead of loading the complete dataset into memory. But you don't have to worry too much about that. It is just an efficient way to work with lots of data. "
      ]
    },
    {
      "cell_type": "code",
      "metadata": {
        "id": "gkeppC3GQiW6",
        "colab": {
          "base_uri": "https://localhost:8080/"
        },
        "outputId": "3e711bbd-dfda-49bc-d88b-ac113917157e"
      },
      "source": [
        "# Checking the object type for one of the elements in the dataset\n",
        "type(tydiqa_data['train'])"
      ],
      "execution_count": 7,
      "outputs": [
        {
          "output_type": "execute_result",
          "data": {
            "text/plain": [
              "datasets.arrow_dataset.Dataset"
            ]
          },
          "metadata": {},
          "execution_count": 7
        }
      ]
    },
    {
      "cell_type": "markdown",
      "metadata": {
        "id": "q_HLaNtQaFlR"
      },
      "source": [
        "You can also check the structure of the dataset:"
      ]
    },
    {
      "cell_type": "code",
      "metadata": {
        "id": "2l9ANJTrbP-U",
        "colab": {
          "base_uri": "https://localhost:8080/"
        },
        "outputId": "5216e4e2-83b5-41dd-a570-7d12d0ee8bc3"
      },
      "source": [
        "tydiqa_data['train']"
      ],
      "execution_count": 8,
      "outputs": [
        {
          "output_type": "execute_result",
          "data": {
            "text/plain": [
              "Dataset({\n",
              "    features: ['passage_answer_candidates', 'question_text', 'document_title', 'language', 'annotations', 'document_plaintext', 'document_url'],\n",
              "    num_rows: 9211\n",
              "})"
            ]
          },
          "metadata": {},
          "execution_count": 8
        }
      ]
    },
    {
      "cell_type": "markdown",
      "metadata": {
        "id": "2xRO1yIkvpUt"
      },
      "source": [
        "You can see that each example is like a dictionary object. This dataset consists of questions, contexts, and indices that point to the start and end position of the answer inside the context. You can access the index using the `annotations` key, which is a kind of dictionary."
      ]
    },
    {
      "cell_type": "code",
      "source": [
        "tydiqa_data['train'][124]"
      ],
      "metadata": {
        "colab": {
          "base_uri": "https://localhost:8080/"
        },
        "id": "lSB_QgfcicTo",
        "outputId": "e827c7ae-6bbc-45c0-d87d-fc174663b109"
      },
      "execution_count": 9,
      "outputs": [
        {
          "output_type": "execute_result",
          "data": {
            "text/plain": [
              "{'annotations': {'minimal_answers_end_byte': [8],\n",
              "  'minimal_answers_start_byte': [1],\n",
              "  'passage_answer_candidate_index': [0],\n",
              "  'yes_no_answer': ['NONE']},\n",
              " 'document_plaintext': '\\nChechen (нохчийн мотт , [ˈnɔx.t͡ʃiːn mu͜ɔt]) is a Northeast Caucasian language spoken by more than 1.4 million people, mostly in the Chechen Republic and by members of the Chechen diaspora throughout Russia, Jordan, Central Asia (mainly Kazakhstan and Kyrgyzstan), and Georgia.\\nClassification\\nChechen is a Northeast Caucasian language. Together with the closely related Ingush, with which there exists a large degree of mutual intelligibility and shared vocabulary, it forms the Vainakh branch.\\nDialects\\nThere are a number of Chechen dialects: Akkish, Chantish, Chebarloish, Malkhish, Nokhchmakhkakhoish, Orstkhoish, Sharoish, Shuotoish, Terloish, Itum-Qalish, and Himoish. The Kisti dialect of Georgia is not easily understood by northern Chechens without a few days\\' practice. One difference in pronunciation is that Kisti aspirated consonants remain aspirated when doubled (fortis) or after /s/, whereas they lose their aspiration in other dialects in these situations.\\nDialects of Chechen can be classified by their geographic position within the Chechen Republic. The dialects of the northern lowlands are often referred to as \"Oharoy muott\" (literally \"lowlander\\'s language\") and the dialect of the southern mountain tribes is known as \"Laamaroy muott\" (lit. \"mountainer\\'s language\"). Oharoy muott forms the basis for much of the standard and literary Chechen language, which can largely be traced to the regional dialects of Urus-Martan and contemporary Grozny. Laamaroy dialects include (but are not limited to) Chebarloish, Sharoish, Itum-Qalish, Kisti, and Himoish. Until recently, however, Himoy was  undocumented and was considered a branch of Sharoish, as many dialects are also used as the basis of intertribal (teip) communication within a larger Chechen \"tukkhum\". Laamaroy dialects such as Sharoish, Himoish and Chebarloish are more conservative and retain many features from Proto–Chechen. For instance, many of these dialects lack a number of vowels found in the standard language which were a result of long-distance assimilation between vowel sounds. Additionally, the Himoy  dialect preserves word-final, post-tonic vowels as a schwa [ə], indicating Laamaroy and Ohwaroy dialects were already separate at the time that Oharoy dialects were undergoing assimilation.\\nGeographic distribution\\nAccording to the Russian Census of 2010, 1,350,000 people reported being able to speak Chechen.[1]\\nOfficial status\\nChechen is an official language of Chechnya.[3]\\nJordan\\nChechens in Jordan have good relations with the Hashemite Kingdom of Jordan and are able to practice their own culture and language. Chechen language usage is strong among the Chechen community in Jordan. Chechens are bilingual in both Chechen and Arabic, but do not speak Arabic among themselves, only speaking Chechen to other Chechens. Some Jordanians are literate in Chechen as well, having managed to read and write to people visiting Jordan from Chechnya.[4]\\nPhonology\\nSome phonological characteristics of Chechen include its wealth of consonants and sounds similar to Arabic and the Salishan languages of North America, as well as a large vowel system resembling those of Swedish and German.\\nConsonants\\nThe Chechen language has, like most indigenous languages of the Caucasus, a large number of consonants: about 40 to 60 (depending on the dialect and the analysis), far more than in most European languages. Typical of the region, a four-way distinction between voiced, voiceless, ejective, and geminate fortis stops is found.[5]\\n\\nNearly any consonant may be fortis because of focus gemination, but only the ones above are found in roots.\\nThe consonants of the t cell and /l/ are denti-alveolar; the others of that column are alveolar. \\n/x/ is a back velar, but not quite uvular.\\nThe lateral /l/ may be velarized, unless it\\'s followed by a front vowel. \\nThe trill /r/ is usually articulated with a single contact, and therefore sometimes described as a tap [ɾ].\\nExcept in the literary register, and even then only for some speakers, the voiced affricates /dz/, /dʒ/ have merged into the fricatives /z/, /ʒ/. A voiceless labial fricative /f/ is found only in European loanwords.\\n/w/ appears both in diphthongs and as a consonant; as a consonant, it has an allophone [v] before front vowels.\\nThe approximately twenty pharyngealized consonants also appear in the table above. Labial, alveolar, and postalveolar consonants may be pharyngealized, except for ejectives. Pharyngealized consonants do not occur in verbs or adjectives, and in nouns and adverbs they occur predominantly before the low vowels /a, aː/ ([ə, ɑː]).\\nExcept when following a consonant, /ʢ/ is phonetically [ʔˤ], and can be argued to be a glottal stop before a \"pharyngealized\" (actually epiglottalized) vowel. However, it does not have the distribution constraints characteristic of the anterior pharyngealized (epiglottalized) consonants. Although these may be analyzed as an anterior consonant plus /ʢ/ (they surface for example as [dʢ] when voiced and [pʰʜ] when voiceless), Nichols argues that given the severe constraints against consonant clusters in Chechen, it is more useful to analyze them as single consonants.\\nThe voiceless alveolar trill /r̥/ contrasts with the voiced version /r/, but only occurs in two roots, vworh \"seven\" and barh \"eight\".\\nVowels\\nUnlike most other languages of the Caucasus, Chechen has an extensive inventory of vowel sounds, about 44, putting its range higher than most languages of Europe (most vowels being the product of environmentally-conditioned allophonic variation, which varies by both dialect and method of analysis). Many of the vowels are due to umlaut, which is highly productive in the standard dialect. None of the spelling systems used so far have distinguished the vowels with complete accuracy.\\n\\nAll vowels may be nasalized. Nasalization is imposed by the genitive, infinitive, and for some speakers the nominative case of adjectives. Nasalization is not strong, but it is audible even in final vowels, which are devoiced.\\nSome of the diphthongs have significant allophony: /ɥø/ = [ɥø], [ɥe], [we]; /yø/ = [yø], [ye]; /uo/ = [woː], [uə].\\nIn closed syllables, long vowels become short in most dialects (not Kisti), but are often still distinct from short vowels (shortened [i], [u], [ɔ], and [ɑ̤] vs. short [ɪ], [ʊ], [o], and [ə], for example), though which remain distinct depends on the dialect. /æ/, /æː/ and /e/, /eː/ are in complementary distribution (/æ/ occurs after pharyngealized consonants, whereas /e/ does not, and /æː/—identical with /æ/ for most speakers—occurs in closed syllables, while /eː/ does not) but speakers strongly feel that they are distinct sounds.\\nPharyngealization appears to be a feature of the consonants, though some analyses treat it as a feature of the vowels. However, Nichols argues that this does not capture the situation in Chechen well, whereas it is more clearly a feature of the vowel in Ingush: Chechen [tsʜaʔ] \"one\", Ingush [tsaʔˤ], which she analyzes as /tsˤaʔ/ and /tsaˤʔ/. Vowels have a delayed murmured onset after pharyngealized voiced consonants and a noisy aspirated onset after pharyngealized voiceless consonants. The high vowels /i/, /y/, /u/ are diphthongized, [əi], [əy], [əu], whereas the diphthongs /je/, /wo/ undergo metathesis, [ej], [ow].\\nPhonotactics\\nChechen permits syllable-initial clusters /st px tx/, and non-initial /x r l/ plus any consonant and any obstruent plus a uvular of the same manner. The only cluster of three consonants permitted is /rst/.[6]\\nGrammar\\nChechen is an agglutinative language with an ergative–absolutive morphosyntactic alignment. Chechen nouns belong to one of several genders or classes (6), each with a specific prefix with which the verb or an accompanying adjective agrees. The verb does not agree with the subject or object\\'s person or number, having only tense forms and participles. Among these are an optative and an antipassive. Some verbs, however, do not take these prefixes.[7]\\nChechen is an ergative, dependent-marking language using eight cases (absolutive, genitive, dative, ergative, allative, instrumental, locative and comparative) and a large number of postpositions to indicate the role of nouns in sentences.\\nWord order is consistently left-branching (like in Japanese or Turkish), so that adjectives, demonstratives and relative clauses precede the nouns they modify. Complementizers and adverbial subordinators, as in other Northeast and in Northwest Caucasian languages, are affixes rather than independent words.\\nChechen also presents interesting challenges for lexicography, as creating new words in the language relies on fixation of whole phrases rather than adding to the end of existing words or combining existing words. It can be difficult to decide which phrases belong in the dictionary, because the language\\'s grammar does not permit the borrowing of new verbal morphemes to express new concepts.[8] Instead, the verb dan (to do) is combined with nominal phrases to correspond with new concepts imported from other languages.\\nNoun classes\\nChechen nouns are divided into six lexically arbitrary noun classes[9]. Morphologically, noun classes may be indexed by changes in the prefix of the accompanying verb and, in many cases, the adjective too. The first two of these classes apply to human beings, although some grammarians count these as two and some as a single class; the other classes however are much more lexically arbitrary. Chechen noun classes are named according to the prefix that indexes them:\\n\\nWhen a noun denotes a human being, it usually falls into v- or y-Classes (1 or 2). Most nouns referring to male entities fall into the v-class, whereas Class 2 contains words related to female entities. Thus lūlaxuo (a neighbour) is class 1, but takes v- if a male neighbour and y- if a female. In a few words, changing the prefixes before the nouns indicates grammatical gender; thus: vоsha (brother) → yisha (sister). Some nouns denoting human beings, however, are not in Classes 1 or 2: bēr (child) for example is in class 3.\\nClassed adjectives\\nOnly a few of Chechen\\'s adjectives index noun class agreement, termed classed adjectives in the literature. Classed adjectives are listed with the -d class prefix in the romanizations below:[10]\\nдеза/d-eza ‘heavy’\\nдовха/d-ouxa ‘hot’\\nдеха/d-iexa ‘long’\\nдуькъа/d-yq’a ‘thick’\\nдораха/d-oraxa ‘cheap’\\nдерстана/d-erstana ‘fat’\\nдуьткъа/d-ytq’a thin’\\nдоца/d-oca ‘short’\\nдайн/d-ain ‘light’\\nдуьзна/d-yzna ‘full’\\nдаьржана/d-aerzhana ‘spread’\\nдоккха/d-oqqa ‘large/big/old’\\nDeclension\\nWhereas Indo-European languages code noun class and case conflated in the same morphemes, Chechen nouns show no gender marking but decline in eight grammatical cases, four of which are core cases (i.e. absolutive, ergative, genitive, and dative) in singular and plural. Below the paradigm for \"говр\" (horse).\\n\\nPronouns\\n\\nPossessive pronouns\\n\\nThe locative still has a few further forms for specific positions\\nVerbs\\nVerbs do not inflect for  person (except for the special d- prefix for the 1st and 2nd persons plural), only for number and tense, aspect, mood. A minority of verbs exhibit agreement prefixes, and these agree with either their subject (intransitive verbs) or with their objects (transitive verbs), with the important note that verbs in compound continuous tenses have the auxiliary verb (-u, to be) agree with the subject and the main verb in participial form agree with the object, provided that the subject is left in the absolutive case (unmarked). If the subject of a transitive verb is marked ergative case, then the auxiliary can only agree with the direct object of the verb.\\nExample of verbal agreement in intransitive clause with a composite verb:\\nСо цхьан сахьтехь вогІур ву (so tsHan saHteH voghur vu) = I (male) will come in one hour\\nСо цхьан сахьтехь йогІур ю (so tsHan saHteH yoghur yu) = I (female) will come in one hour\\nWhere the verb\\'s future stem \"-огІур\" (will come) and the auxiliary \"-у\" (present tense of \\'be\\') receive the prefix v- for a masculine subject but y- for a feminine subject.\\nVerbal tenses are formed by ablaut or suffixes, or both (there are five conjugations in total, below is one). Derived stems can be formed by suffixation as well (causative, etc.):\\n\\n\\nAlphabets\\n\\n\\n\\n\\nNumerous inscriptions in the Georgian script are found in mountainous Chechnya, but they are not necessarily in Chechen. Later, the Arabic script was introduced for Chechen, along with Islam. The Chechen Arabic alphabet was first reformed during the reign of Imam Shamil, and then again in 1910, 1920 and 1922.\\nAt the same time, the alphabet devised by Peter von Uslar, consisting of Cyrillic, Latin, and Georgian letters, was used for academic purposes. In 1911 it too was reformed but never gained popularity among the Chechens themselves.\\nThe Latin alphabet was introduced in 1925. It was unified with Ingush in 1934, but abolished in 1938.\\n\\n\\n\\n\\n\\n\\n\\n\\n\\n\\n\\n\\n\\n\\n\\n\\n\\n\\n\\n\\n\\n\\n\\n\\n\\n\\n\\n\\n\\n\\n\\n\\n\\n\\n\\n\\n\\n\\n\\n\\n\\n\\n\\n\\n\\nA aÄ äB bC cČ čCh chČh čhD dE eF fG gGh ghH hI iJ jK kKh khL lM mN nŅ ņO oÖ öP pPh phQ qQh qhR rS sŠ šT tTh thU uÜ üV vX xẊ ẋY yZ zŽ ž\\nIn 1938–1992, only the Cyrillic alphabet was used for Chechen.\\n\\nNotes\\n\\nIn 1992, a new Latin Chechen alphabet was introduced, but after the defeat of the secessionist government, the Cyrillic alphabet was restored.\\n\\n\\n\\n\\n\\n\\n\\n\\n\\n\\n\\n\\n\\n\\n\\n\\n\\n\\n\\n\\n\\n\\n\\n\\n\\n\\n\\n\\n\\n\\n\\n\\n\\n\\n\\n\\n\\n\\n\\n\\n\\n\\n\\n\\n\\n\\n\\n\\n\\n\\n\\n\\n\\n\\nA aÄ äB bC cĊ ċÇ çÇ̇ ç̇D dE eF fG gĠ ġH hX xẊ ẋI iJ jK kKh khL lM mN nꞐ ꞑO oÖ öP pPh phQ qQ̇ q̇R rS sŞ şT tTh thU uÜ üV vY yZ zƵ ƶƏ ə\\nVocabulary\\nMost Chechen vocabulary is derived from the Nakh branch of the Northeast Caucasian language family, although there are significant minorities of words derived from Arabic (Islamic terms, like \"Iman\", \"Ilma\", \"Do\\'a\") and a smaller amount from Turkic (like \"kuzga\", \"shish\"), belonging to the universal Caucasian stratum of borrowings) and most recently Russian (modern terms, like computer – \"kamputar\", television – \"telvideni\", televisor – \"telvizar\", metro – \"metro\" etc.).\\nHistory\\nBefore the Russian conquest, most writing in Chechnya consisted of Islamic texts and clan histories, written usually in Arabic but sometimes also in Chechen using Arabic script. Those texts were largely destroyed by Soviet authorities in 1944. The Chechen literary language was created after the October Revolution, and the Latin script began to be used instead of Arabic for Chechen writing in the mid-1920s. In 1938, the Cyrillic script was adopted, in order to tie the nation closer to Russia. With the declaration of the Chechen republic in 1992, some Chechen speakers returned to the Latin alphabet.\\nThe Chechen diaspora in Jordan, Turkey, and Syria is fluent but generally not literate in Chechen except for individuals who have made efforts to learn the writing system, and of course the Cyrillic alphabet is not generally known in these countries.\\nThe choice of alphabet for Chechen is politically significant: Russia prefers the use of Cyrillic, whereas the separatists preferred Latin.\\n\\n\\nSources\\n\\n\\n\\n\\n\\n\\nAppendix:Cyrillic script\\n\\n\\n Wealth of linguistic information.\\n\\n\\n\\n\\n\\nELAR archive of \\n\\n\\n\\n\\n\\n\\n\\n\\n\\n\\n',\n",
              " 'document_title': 'Chechen language',\n",
              " 'document_url': 'https://en.wikipedia.org/wiki/Chechen%20language',\n",
              " 'language': 'english',\n",
              " 'passage_answer_candidates': {'plaintext_end_byte': [296,\n",
              "   513,\n",
              "   991,\n",
              "   2308,\n",
              "   2431,\n",
              "   2495,\n",
              "   2967,\n",
              "   3201,\n",
              "   3540,\n",
              "   4303,\n",
              "   4635,\n",
              "   5213,\n",
              "   5349,\n",
              "   5841,\n",
              "   6069,\n",
              "   6193,\n",
              "   6749,\n",
              "   7384,\n",
              "   7606,\n",
              "   8068,\n",
              "   8308,\n",
              "   8616,\n",
              "   9139,\n",
              "   9620,\n",
              "   10155,\n",
              "   10369,\n",
              "   10754,\n",
              "   11078,\n",
              "   11176,\n",
              "   11865,\n",
              "   11939,\n",
              "   12051,\n",
              "   12163,\n",
              "   12343,\n",
              "   12523,\n",
              "   12850,\n",
              "   13081,\n",
              "   13183,\n",
              "   13383,\n",
              "   13448,\n",
              "   13599,\n",
              "   13819,\n",
              "   14314,\n",
              "   14927,\n",
              "   15178,\n",
              "   15318,\n",
              "   15418],\n",
              "  'plaintext_start_byte': [1,\n",
              "   312,\n",
              "   523,\n",
              "   992,\n",
              "   2333,\n",
              "   2448,\n",
              "   2503,\n",
              "   2978,\n",
              "   3213,\n",
              "   3542,\n",
              "   4304,\n",
              "   4636,\n",
              "   5214,\n",
              "   5357,\n",
              "   5843,\n",
              "   6070,\n",
              "   6194,\n",
              "   6750,\n",
              "   7398,\n",
              "   7615,\n",
              "   8069,\n",
              "   8309,\n",
              "   8617,\n",
              "   9153,\n",
              "   9622,\n",
              "   10175,\n",
              "   10370,\n",
              "   10766,\n",
              "   11111,\n",
              "   11183,\n",
              "   11866,\n",
              "   11940,\n",
              "   12052,\n",
              "   12164,\n",
              "   12344,\n",
              "   12540,\n",
              "   12851,\n",
              "   13082,\n",
              "   13229,\n",
              "   13384,\n",
              "   13457,\n",
              "   13654,\n",
              "   13831,\n",
              "   14323,\n",
              "   14928,\n",
              "   15179,\n",
              "   15335]},\n",
              " 'question_text': 'What language do Chechens speak?'}"
            ]
          },
          "metadata": {},
          "execution_count": 9
        }
      ]
    },
    {
      "cell_type": "code",
      "metadata": {
        "id": "KNVpW6lADk92",
        "colab": {
          "base_uri": "https://localhost:8080/"
        },
        "outputId": "b520060d-c6b8-4e03-fbfe-b489431884ae"
      },
      "source": [
        "idx = 600\n",
        "\n",
        "# start index\n",
        "start_index = tydiqa_data['train'][idx]['annotations']['minimal_answers_start_byte'][0]\n",
        "\n",
        "# end index\n",
        "end_index = tydiqa_data['train'][idx]['annotations']['minimal_answers_end_byte'][0]\n",
        "\n",
        "print(\"Question: \" + tydiqa_data['train'][idx]['question_text'])\n",
        "print(\"\\nContext (truncated): \"+ tydiqa_data['train'][idx]['document_plaintext'][0:512] + '...')\n",
        "print(\"\\nAnswer: \" + tydiqa_data['train'][idx]['document_plaintext'][start_index:end_index])"
      ],
      "execution_count": 10,
      "outputs": [
        {
          "output_type": "stream",
          "name": "stdout",
          "text": [
            "Question: What mental effects can a mother experience after childbirth?\n",
            "\n",
            "Context (truncated): \n",
            "\n",
            "Postpartum depression (PPD), also called postnatal depression, is a type of mood disorder associated with childbirth, which can affect both sexes.[1][3] Symptoms may include extreme sadness, low energy, anxiety, crying episodes, irritability, and changes in sleeping or eating patterns.[1] Onset is typically between one week and one month following childbirth.[1] PPD can also negatively affect the newborn child.[2]\n",
            "\n",
            "While the exact cause of PPD is unclear, the cause is believed to be a combination of physi...\n",
            "\n",
            "Answer: Postpartum depression (PPD)\n"
          ]
        }
      ]
    },
    {
      "cell_type": "markdown",
      "metadata": {
        "id": "Z-lZgDTEYm74"
      },
      "source": [
        "The question answering model predicts a start and endpoint in the context to extract as the answer. That's why this NLP task is known as extractive question answering. \n",
        "\n",
        "To train your model, you need to pass start and endpoints as labels. So, you need to implement a function that extracts the start and end positions from the dataset. \n",
        "\n",
        "The dataset contains unanswerable questions. For these, the start and end indices for the answer are equal to `-1`."
      ]
    },
    {
      "cell_type": "code",
      "metadata": {
        "id": "Ty_QDcdKYw9a",
        "colab": {
          "base_uri": "https://localhost:8080/"
        },
        "outputId": "51a22964-a4a1-4a0e-af72-ce138c1e5515"
      },
      "source": [
        "tydiqa_data['train'][0]['annotations']"
      ],
      "execution_count": 11,
      "outputs": [
        {
          "output_type": "execute_result",
          "data": {
            "text/plain": [
              "{'minimal_answers_end_byte': [-1],\n",
              " 'minimal_answers_start_byte': [-1],\n",
              " 'passage_answer_candidate_index': [-1],\n",
              " 'yes_no_answer': ['NONE']}"
            ]
          },
          "metadata": {},
          "execution_count": 11
        }
      ]
    },
    {
      "cell_type": "markdown",
      "metadata": {
        "id": "lHWcNMudcAuO"
      },
      "source": [
        "Now, you have to flatten the dataset to work with an object with a table structure instead of a dictionary structure. This step facilitates the pre-processing steps."
      ]
    },
    {
      "cell_type": "code",
      "metadata": {
        "id": "xDCAQQtoCs_r"
      },
      "source": [
        "# Flattening the datasets\n",
        "flattened_train_data = tydiqa_data['train'].flatten()\n",
        "flattened_test_data =  tydiqa_data['validation'].flatten()"
      ],
      "execution_count": 12,
      "outputs": []
    },
    {
      "cell_type": "markdown",
      "metadata": {
        "id": "q5wUa5xED0fK"
      },
      "source": [
        "Also, to make the training more straightforward and faster, we will extract a subset of the train and test datasets. For that purpose, we will use the Hugging Face Dataset object's method called `select()`. This method allows you to take some data points by their index. Here, you will select the first 3000 rows; you can play with the number of data points but consider that this will increase the training time."
      ]
    },
    {
      "cell_type": "code",
      "metadata": {
        "id": "BkcIhpEnDHSJ"
      },
      "source": [
        "# Selecting a subset of the train dataset\n",
        "flattened_train_data = flattened_train_data.select(range(3000))\n",
        "\n",
        "# Selecting a subset of the test dataset\n",
        "flattened_test_data = flattened_test_data.select(range(1000))"
      ],
      "execution_count": 13,
      "outputs": []
    },
    {
      "cell_type": "markdown",
      "metadata": {
        "id": "fBXrmwXhc13M"
      },
      "source": [
        "### Tokenizers\n",
        "\n",
        "Now, you will use the [tokenizer](https://huggingface.co/transformers/main_classes/tokenizer.html) object from Hugging Face. You can load a tokenizer using different methods. Here, you will retrieve it from the pipeline object you created in the previous Hugging Face lab. With this tokenizer, you can ensure that the tokens you get for the dataset will match the tokens used in the original DistilBERT implementation. \n",
        "\n",
        "When loading a tokenizer with any method, you must pass the model checkpoint that you want to fine-tune. Here, you are using the`'distilbert-base-cased-distilled-squad'` checkpoint.\n"
      ]
    },
    {
      "cell_type": "code",
      "metadata": {
        "id": "LInV3b_HyAIF",
        "colab": {
          "base_uri": "https://localhost:8080/",
          "height": 145,
          "referenced_widgets": [
            "3a3de7bbac554db68741e05bde091855",
            "f3b822422e1149b480a0c4cbf2f532a3",
            "ccb2684f120744f3b036b84a9031bad1",
            "5b394042ecf34a1691f5cd5001c72856",
            "506f4781480041c5a887c478df76cb77",
            "6a44ba1bcd9f404ba6eb4cca93a74f7d",
            "57f4e4cc539a48bf9ff198438ff5ea9b",
            "aa13021d36d944c19e9a4303c05c89de",
            "3ae4fee6f3484ad7b900c5ba2f5669ef",
            "aa6dde31e3d3458fb811e4a330855919",
            "d0754e4630344d73b383c25d5043b3da",
            "5c0db5786a254dc2b74d5599ca64702e",
            "d9f0a83814334bdea783650850ac6ce9",
            "b5f3857c91b544fb94b34c121246b568",
            "8524f91dd3fa406296b6319bf635ef67",
            "3608bf9af095462ba55c29671e408251",
            "b4999a9ce0dd4621970b687a38faba80",
            "d4a8fb28d7b54ef9a0fe64e0db9b8b6a",
            "f24376b858ad42c58a23f210c8a30343",
            "307c758aa38347489db9379880bdc303",
            "f0225a7ee78941fcbb18602a21d53f91",
            "0cd376454f3847bf9f9be16efdb04925",
            "6d1a3890d2464d6fa1e467311d34baab",
            "958b030268e546cab012f7f5ebce3832",
            "a429814314bf4bd1ae6b7d8d3c52cf31",
            "03f23bfd1b8c4b49957ffe3bce6a1c3c",
            "1e124cfb738a4010a7a883c9f20687d4",
            "f8c6991310874791a8deded3d0dc5cd7",
            "2618bf2bfb7e4e9ca534a882ebbdcb1c",
            "64f624906ee74ff4b7b24b7794c2a4c9",
            "78cda88c1ece4598a5eec26fa589aa5e",
            "c123b070424a4557bcc3d35e8ec0333f",
            "1a446129e7cd4204b8aed4db9fe1e7a9",
            "bff67211c46c45a0b20f555287102b88",
            "0bfbddc275af4cedbc187b5ce84e740e",
            "bd0f431d89864da39e39adf44a5b807d",
            "a27564099bf94cd4b160e2827c847a54",
            "b9d45317f12247769d570b53fba36fad",
            "c26c827bd0d949aa955b2a793f82eb69",
            "3fb41a35305c414e943fb57955d13d97",
            "56a0a2743d754b11ae3b42b2df33ef19",
            "80c0b4b3f98f4692b27f0ce1799e9866",
            "67061c20e0e24740807cdfb807e6f359",
            "ef3d6620916b4567afff692ebc7283f1"
          ]
        },
        "outputId": "0e15f971-c6e5-4c25-ba10-c03e04344c2c"
      },
      "source": [
        "# Import the AutoTokenizer from the transformers library\n",
        "from transformers import AutoTokenizer\n",
        "tokenizer = AutoTokenizer.from_pretrained(\"distilbert-base-cased-distilled-squad\")"
      ],
      "execution_count": 14,
      "outputs": [
        {
          "output_type": "display_data",
          "data": {
            "text/plain": [
              "Downloading:   0%|          | 0.00/29.0 [00:00<?, ?B/s]"
            ],
            "application/vnd.jupyter.widget-view+json": {
              "version_major": 2,
              "version_minor": 0,
              "model_id": "3a3de7bbac554db68741e05bde091855"
            }
          },
          "metadata": {}
        },
        {
          "output_type": "display_data",
          "data": {
            "text/plain": [
              "Downloading:   0%|          | 0.00/473 [00:00<?, ?B/s]"
            ],
            "application/vnd.jupyter.widget-view+json": {
              "version_major": 2,
              "version_minor": 0,
              "model_id": "5c0db5786a254dc2b74d5599ca64702e"
            }
          },
          "metadata": {}
        },
        {
          "output_type": "display_data",
          "data": {
            "text/plain": [
              "Downloading:   0%|          | 0.00/208k [00:00<?, ?B/s]"
            ],
            "application/vnd.jupyter.widget-view+json": {
              "version_major": 2,
              "version_minor": 0,
              "model_id": "6d1a3890d2464d6fa1e467311d34baab"
            }
          },
          "metadata": {}
        },
        {
          "output_type": "display_data",
          "data": {
            "text/plain": [
              "Downloading:   0%|          | 0.00/426k [00:00<?, ?B/s]"
            ],
            "application/vnd.jupyter.widget-view+json": {
              "version_major": 2,
              "version_minor": 0,
              "model_id": "bff67211c46c45a0b20f555287102b88"
            }
          },
          "metadata": {}
        }
      ]
    },
    {
      "cell_type": "markdown",
      "metadata": {
        "id": "qz6YtVcOh3qP"
      },
      "source": [
        "Given the characteristics of the dataset and the question-answering task, you will need to add some steps to pre-process the data after the tokenization:\n",
        "\n",
        "1. When there is no answer to a question given a context, you will use the `CLS` token, a unique token used to represent the start of the sequence.\n",
        "\n",
        "2.  Tokenizers can split a given string into substrings, resulting in a subtoken for each substring, creating misalignment between the list of dataset tags and the labels generated by the tokenizer. Therefore, you will need to align the start and end indices with the tokens associated with the target answer word. \n",
        "\n",
        "3. Finally, a tokenizer can truncate a very long sequence. So, if the start/end position of an answer is `None`, you will assume that it was truncated and assign the maximum length of the tokenizer to those positions.\n",
        "\n",
        "Those three steps are done within the `process_samples` function defined below."
      ]
    },
    {
      "cell_type": "code",
      "source": [
        "tokenizer.cls_token_id"
      ],
      "metadata": {
        "colab": {
          "base_uri": "https://localhost:8080/"
        },
        "id": "5Wh3cOixtl2I",
        "outputId": "f1ded10d-ff75-451b-c9d8-dd697a235a88"
      },
      "execution_count": 15,
      "outputs": [
        {
          "output_type": "execute_result",
          "data": {
            "text/plain": [
              "101"
            ]
          },
          "metadata": {},
          "execution_count": 15
        }
      ]
    },
    {
      "cell_type": "code",
      "metadata": {
        "id": "3l-r4wI06LU7"
      },
      "source": [
        "# Processing samples using the 3 steps described.\n",
        "def process_samples(sample):    \n",
        "    tokenized_data = tokenizer(sample['document_plaintext'], sample['question_text'], truncation=\"only_first\", padding=\"max_length\")\n",
        "    \n",
        "    input_ids = tokenized_data[\"input_ids\"]\n",
        "        \n",
        "    # We will label impossible answers with the index of the CLS token.\n",
        "    cls_index = input_ids.index(tokenizer.cls_token_id)\n",
        "        \n",
        "    # If no answers are given, set the cls_index as answer.\n",
        "    if sample[\"annotations.minimal_answers_start_byte\"][0] == -1:\n",
        "        start_position = cls_index\n",
        "        end_position = cls_index\n",
        "    else:\n",
        "        # Start/end character index of the answer in the text.\n",
        "        gold_text = sample[\"document_plaintext\"][sample['annotations.minimal_answers_start_byte'][0]:sample['annotations.minimal_answers_end_byte'][0]]\n",
        "        start_char = sample[\"annotations.minimal_answers_start_byte\"][0]\n",
        "        end_char = sample['annotations.minimal_answers_end_byte'][0] #start_char + len(gold_text)\n",
        "\n",
        "        # sometimes answers are off by a character or two – fix this\n",
        "        if sample['document_plaintext'][start_char-1:end_char-1] == gold_text:\n",
        "            start_char = start_char - 1\n",
        "            end_char = end_char - 1     # When the gold label is off by one character\n",
        "        elif sample['document_plaintext'][start_char-2:end_char-2] == gold_text:\n",
        "            start_char = start_char - 2\n",
        "            end_char = end_char - 2     # When the gold label is off by two characters\n",
        "                                  \n",
        "        start_token = tokenized_data.char_to_token(start_char)\n",
        "        end_token = tokenized_data.char_to_token(end_char - 1)\n",
        "        \n",
        "        # if start position is None, the answer passage has been truncated\n",
        "        if start_token is None:\n",
        "            start_token = tokenizer.model_max_length\n",
        "        if end_token is None:\n",
        "            end_token = tokenizer.model_max_length\n",
        "            \n",
        "        start_position = start_token\n",
        "        end_position = end_token\n",
        "\n",
        "    return {'input_ids': tokenized_data['input_ids'],\n",
        "          'attention_mask': tokenized_data['attention_mask'],\n",
        "          'start_positions': start_position,\n",
        "          'end_positions': end_position}\n"
      ],
      "execution_count": 16,
      "outputs": []
    },
    {
      "cell_type": "markdown",
      "metadata": {
        "id": "Q3LAsWSyk_Rm"
      },
      "source": [
        "To apply the `process_samples` function defined above to the whole  dataset, you can use the `map` method as follows:"
      ]
    },
    {
      "cell_type": "code",
      "metadata": {
        "id": "rGbYd7QnFetG",
        "colab": {
          "base_uri": "https://localhost:8080/",
          "height": 81,
          "referenced_widgets": [
            "15d8dd60d9794e07a3e5f26b616522fc",
            "ff0490c8eb59408f952ce52e493bb711",
            "74bbfaabd7f245db8c1f5782d25b97d4",
            "178fa12c69ad4e7b804f2626aa668855",
            "30411f82767b42c0b77b01af5031725f",
            "28ec238fcd2e4876ba49c420e97ed419",
            "93f2ece9c8904407be0e0301181eda9a",
            "4a4bee6beefb4b5bb282d621096e71bd",
            "13a11d6cd051443d8342ad8e3d383b06",
            "538c152157924bd59ad898f294b35774",
            "d944e2f269a64d35b7daf36dbddfd52b",
            "da5ca449cde0483783214593625e23ae",
            "5eae6e0fd6e44817a1dc04c81d4f3bc0",
            "a0f84f4d85754375965f36240c222a85",
            "61149d8f19f74aa1884c1c87b4cf2321",
            "dfcdf2de5c9c44ccb8e6593b243d5059",
            "58213caaf7894290938220648b3dee34",
            "5e46cc33de884c529b767e2989b75904",
            "31add87a6d4d43b89a41c4904e36e13f",
            "7b8ddaa94d614e60a17c3478cd13540e",
            "4e97ed4cc91c48cd842d7f402495f3dd",
            "91727caf576f48d89d985b2c731e7f74"
          ]
        },
        "outputId": "d988c945-8e57-4699-82bf-54a78ff7647c"
      },
      "source": [
        "# Tokenizing and processing the flattened dataset\n",
        "processed_train_data = flattened_train_data.map(process_samples)\n",
        "processed_test_data = flattened_test_data.map(process_samples)"
      ],
      "execution_count": 17,
      "outputs": [
        {
          "output_type": "display_data",
          "data": {
            "text/plain": [
              "  0%|          | 0/3000 [00:00<?, ?ex/s]"
            ],
            "application/vnd.jupyter.widget-view+json": {
              "version_major": 2,
              "version_minor": 0,
              "model_id": "15d8dd60d9794e07a3e5f26b616522fc"
            }
          },
          "metadata": {}
        },
        {
          "output_type": "display_data",
          "data": {
            "text/plain": [
              "  0%|          | 0/1000 [00:00<?, ?ex/s]"
            ],
            "application/vnd.jupyter.widget-view+json": {
              "version_major": 2,
              "version_minor": 0,
              "model_id": "da5ca449cde0483783214593625e23ae"
            }
          },
          "metadata": {}
        }
      ]
    },
    {
      "cell_type": "markdown",
      "metadata": {
        "id": "wCpPhYKJluMA"
      },
      "source": [
        "# Transformers\n",
        "\n",
        "The last component of Hugging Face that is useful for fine-tuning a transformer corresponds to the pre-trained models you can access in multiple ways. \n",
        "\n",
        "For this lab, you will use the same model from the question-answering pipeline that you loaded before. "
      ]
    },
    {
      "cell_type": "code",
      "metadata": {
        "id": "jR3VqjNc1Vb3",
        "colab": {
          "base_uri": "https://localhost:8080/"
        },
        "outputId": "f5bfe412-8b78-4bd5-fe77-07834f63213c"
      },
      "source": [
        "# Import the AutoModelForQuestionAnswering for the pre-trained model. We will only fine tune the head of the model\n",
        "from transformers import AutoModelForQuestionAnswering\n",
        "model = AutoModelForQuestionAnswering.from_pretrained(\"distilbert-base-cased-distilled-squad\")"
      ],
      "execution_count": 28,
      "outputs": [
        {
          "output_type": "stream",
          "name": "stderr",
          "text": [
            "loading configuration file https://huggingface.co/distilbert-base-cased-distilled-squad/resolve/main/config.json from cache at /root/.cache/huggingface/transformers/81e8dfe090123eff18dd06533ead3ae407b82e30834c50c7c82c2305ce3ace12.ca0305b1f128274fa0c6e4859d1c1477d0e34a20be25da95eea888b30ece9cf3\n",
            "Model config DistilBertConfig {\n",
            "  \"_name_or_path\": \"distilbert-base-cased-distilled-squad\",\n",
            "  \"activation\": \"gelu\",\n",
            "  \"architectures\": [\n",
            "    \"DistilBertForQuestionAnswering\"\n",
            "  ],\n",
            "  \"attention_dropout\": 0.1,\n",
            "  \"dim\": 768,\n",
            "  \"dropout\": 0.1,\n",
            "  \"hidden_dim\": 3072,\n",
            "  \"initializer_range\": 0.02,\n",
            "  \"max_position_embeddings\": 512,\n",
            "  \"model_type\": \"distilbert\",\n",
            "  \"n_heads\": 12,\n",
            "  \"n_layers\": 6,\n",
            "  \"output_past\": true,\n",
            "  \"pad_token_id\": 0,\n",
            "  \"qa_dropout\": 0.1,\n",
            "  \"seq_classif_dropout\": 0.2,\n",
            "  \"sinusoidal_pos_embds\": true,\n",
            "  \"tie_weights_\": true,\n",
            "  \"transformers_version\": \"4.19.2\",\n",
            "  \"vocab_size\": 28996\n",
            "}\n",
            "\n",
            "loading weights file https://huggingface.co/distilbert-base-cased-distilled-squad/resolve/main/pytorch_model.bin from cache at /root/.cache/huggingface/transformers/02f483764e26e1acfddfcd6e4879785f2908b2806a962d01b888bfe2b988075b.bd96a9432b167ab5e2b086cf0b688ca3c43c027091377eddfcfd39bdde851c35\n",
            "All model checkpoint weights were used when initializing DistilBertForQuestionAnswering.\n",
            "\n",
            "All the weights of DistilBertForQuestionAnswering were initialized from the model checkpoint at distilbert-base-cased-distilled-squad.\n",
            "If your task is similar to the task the model of the checkpoint was trained on, you can already use DistilBertForQuestionAnswering for predictions without further training.\n"
          ]
        }
      ]
    },
    {
      "cell_type": "markdown",
      "metadata": {
        "id": "K29BYtnsm1yH"
      },
      "source": [
        "Now, you can take the necessary columns from the datasets to train/test and return them as Pytorch Tensors."
      ]
    },
    {
      "cell_type": "code",
      "metadata": {
        "id": "0X14G89noLfW"
      },
      "source": [
        "columns_to_return = ['input_ids','attention_mask', 'start_positions', 'end_positions']\n",
        "processed_train_data.set_format(type='pt', columns=columns_to_return) \n",
        "processed_test_data.set_format(type='pt', columns=columns_to_return) "
      ],
      "execution_count": 29,
      "outputs": []
    },
    {
      "cell_type": "markdown",
      "metadata": {
        "id": "yjoUFWu_nLRq"
      },
      "source": [
        "Here, we give you the F1 score as a metric to evaluate your model's performance. We will use this metric for simplicity, although it is based on the start and end values predicted by the model. If you want to dig deeper on other metrics that can be used for a question and answering task, you can also check [this colab notebook resource](https://colab.research.google.com/github/huggingface/notebooks/blob/master/examples/question_answering.ipynb) from the Hugging Face team."
      ]
    },
    {
      "cell_type": "code",
      "metadata": {
        "id": "xcW2wPnirsJk"
      },
      "source": [
        "from sklearn.metrics import f1_score\n",
        "\n",
        "def compute_f1_metrics(pred):    \n",
        "    start_labels = pred.label_ids[0]\n",
        "    start_preds = pred.predictions[0].argmax(-1)\n",
        "    end_labels = pred.label_ids[1]\n",
        "    end_preds = pred.predictions[1].argmax(-1)\n",
        "    \n",
        "    f1_start = f1_score(start_labels, start_preds, average='macro')\n",
        "    f1_end = f1_score(end_labels, end_preds, average='macro')\n",
        "    \n",
        "    return {\n",
        "        'f1_start': f1_start,\n",
        "        'f1_end': f1_end,\n",
        "    }"
      ],
      "execution_count": 30,
      "outputs": []
    },
    {
      "cell_type": "markdown",
      "metadata": {
        "id": "KuhASU4evpUu"
      },
      "source": [
        "Now, you will use the Hugging Face [Trainer](https://huggingface.co/transformers/main_classes/trainer.html) to fine-tune your model."
      ]
    },
    {
      "cell_type": "code",
      "metadata": {
        "id": "nxyOwf5utXAt",
        "colab": {
          "base_uri": "https://localhost:8080/",
          "height": 1000
        },
        "outputId": "591e14b8-ed6b-4636-f264-ffc25d7c088c"
      },
      "source": [
        "# Training the model may take around 15 minutes.\n",
        "from transformers import Trainer, TrainingArguments\n",
        "\n",
        "training_args = TrainingArguments(\n",
        "    output_dir='model_results5',          # output directory\n",
        "    overwrite_output_dir=True,\n",
        "    num_train_epochs=3,              # total number of training epochs\n",
        "    per_device_train_batch_size=8,  # batch size per device during training\n",
        "    per_device_eval_batch_size=8,   # batch size for evaluation\n",
        "    warmup_steps=20,                # number of warmup steps for learning rate scheduler\n",
        "    weight_decay=0.01,               # strength of weight decay\n",
        "    logging_dir=None,            # directory for storing logs\n",
        "    logging_steps=50\n",
        ")\n",
        "\n",
        "trainer = Trainer(\n",
        "    model=model, # the instantiated 🤗 Transformers model to be trained\n",
        "    args=training_args, # training arguments, defined above\n",
        "    train_dataset=processed_train_data, # training dataset\n",
        "    eval_dataset=processed_test_data, # evaluation dataset\n",
        "    compute_metrics=compute_f1_metrics             \n",
        ")\n",
        "\n",
        "trainer.train()"
      ],
      "execution_count": 31,
      "outputs": [
        {
          "output_type": "stream",
          "name": "stderr",
          "text": [
            "PyTorch: setting up devices\n",
            "The default value for the training argument `--report_to` will change in v5 (from all installed integrations to none). In v5, you will need to use `--report_to all` to get the same behavior as now. You should start updating your code and make this info disappear :-).\n",
            "The following columns in the training set don't have a corresponding argument in `DistilBertForQuestionAnswering.forward` and have been ignored: annotations.minimal_answers_start_byte, document_plaintext, annotations.passage_answer_candidate_index, annotations.minimal_answers_end_byte, passage_answer_candidates.plaintext_end_byte, document_url, document_title, passage_answer_candidates.plaintext_start_byte, language, question_text, annotations.yes_no_answer. If annotations.minimal_answers_start_byte, document_plaintext, annotations.passage_answer_candidate_index, annotations.minimal_answers_end_byte, passage_answer_candidates.plaintext_end_byte, document_url, document_title, passage_answer_candidates.plaintext_start_byte, language, question_text, annotations.yes_no_answer are not expected by `DistilBertForQuestionAnswering.forward`,  you can safely ignore this message.\n",
            "/usr/local/lib/python3.7/dist-packages/transformers/optimization.py:309: FutureWarning: This implementation of AdamW is deprecated and will be removed in a future version. Use the PyTorch implementation torch.optim.AdamW instead, or set `no_deprecation_warning=True` to disable this warning\n",
            "  FutureWarning,\n",
            "***** Running training *****\n",
            "  Num examples = 3000\n",
            "  Num Epochs = 3\n",
            "  Instantaneous batch size per device = 8\n",
            "  Total train batch size (w. parallel, distributed & accumulation) = 8\n",
            "  Gradient Accumulation steps = 1\n",
            "  Total optimization steps = 1125\n"
          ]
        },
        {
          "output_type": "display_data",
          "data": {
            "text/plain": [
              "<IPython.core.display.HTML object>"
            ],
            "text/html": [
              "\n",
              "    <div>\n",
              "      \n",
              "      <progress value='1125' max='1125' style='width:300px; height:20px; vertical-align: middle;'></progress>\n",
              "      [1125/1125 07:20, Epoch 3/3]\n",
              "    </div>\n",
              "    <table border=\"1\" class=\"dataframe\">\n",
              "  <thead>\n",
              " <tr style=\"text-align: left;\">\n",
              "      <th>Step</th>\n",
              "      <th>Training Loss</th>\n",
              "    </tr>\n",
              "  </thead>\n",
              "  <tbody>\n",
              "    <tr>\n",
              "      <td>50</td>\n",
              "      <td>2.121500</td>\n",
              "    </tr>\n",
              "    <tr>\n",
              "      <td>100</td>\n",
              "      <td>2.330300</td>\n",
              "    </tr>\n",
              "    <tr>\n",
              "      <td>150</td>\n",
              "      <td>2.058000</td>\n",
              "    </tr>\n",
              "    <tr>\n",
              "      <td>200</td>\n",
              "      <td>1.657700</td>\n",
              "    </tr>\n",
              "    <tr>\n",
              "      <td>250</td>\n",
              "      <td>1.829900</td>\n",
              "    </tr>\n",
              "    <tr>\n",
              "      <td>300</td>\n",
              "      <td>1.505300</td>\n",
              "    </tr>\n",
              "    <tr>\n",
              "      <td>350</td>\n",
              "      <td>1.741100</td>\n",
              "    </tr>\n",
              "    <tr>\n",
              "      <td>400</td>\n",
              "      <td>1.289300</td>\n",
              "    </tr>\n",
              "    <tr>\n",
              "      <td>450</td>\n",
              "      <td>1.208900</td>\n",
              "    </tr>\n",
              "    <tr>\n",
              "      <td>500</td>\n",
              "      <td>1.271800</td>\n",
              "    </tr>\n",
              "    <tr>\n",
              "      <td>550</td>\n",
              "      <td>1.275900</td>\n",
              "    </tr>\n",
              "    <tr>\n",
              "      <td>600</td>\n",
              "      <td>1.258400</td>\n",
              "    </tr>\n",
              "    <tr>\n",
              "      <td>650</td>\n",
              "      <td>1.184500</td>\n",
              "    </tr>\n",
              "    <tr>\n",
              "      <td>700</td>\n",
              "      <td>1.145600</td>\n",
              "    </tr>\n",
              "    <tr>\n",
              "      <td>750</td>\n",
              "      <td>1.063800</td>\n",
              "    </tr>\n",
              "    <tr>\n",
              "      <td>800</td>\n",
              "      <td>0.746700</td>\n",
              "    </tr>\n",
              "    <tr>\n",
              "      <td>850</td>\n",
              "      <td>0.670800</td>\n",
              "    </tr>\n",
              "    <tr>\n",
              "      <td>900</td>\n",
              "      <td>0.711500</td>\n",
              "    </tr>\n",
              "    <tr>\n",
              "      <td>950</td>\n",
              "      <td>0.784200</td>\n",
              "    </tr>\n",
              "    <tr>\n",
              "      <td>1000</td>\n",
              "      <td>0.721700</td>\n",
              "    </tr>\n",
              "    <tr>\n",
              "      <td>1050</td>\n",
              "      <td>0.553800</td>\n",
              "    </tr>\n",
              "    <tr>\n",
              "      <td>1100</td>\n",
              "      <td>0.616800</td>\n",
              "    </tr>\n",
              "  </tbody>\n",
              "</table><p>"
            ]
          },
          "metadata": {}
        },
        {
          "output_type": "stream",
          "name": "stderr",
          "text": [
            "Saving model checkpoint to model_results5/checkpoint-500\n",
            "Configuration saved in model_results5/checkpoint-500/config.json\n",
            "Model weights saved in model_results5/checkpoint-500/pytorch_model.bin\n",
            "Saving model checkpoint to model_results5/checkpoint-1000\n",
            "Configuration saved in model_results5/checkpoint-1000/config.json\n",
            "Model weights saved in model_results5/checkpoint-1000/pytorch_model.bin\n",
            "\n",
            "\n",
            "Training completed. Do not forget to share your model on huggingface.co/models =)\n",
            "\n",
            "\n"
          ]
        },
        {
          "output_type": "execute_result",
          "data": {
            "text/plain": [
              "TrainOutput(global_step=1125, training_loss=1.2449822023179795, metrics={'train_runtime': 441.3577, 'train_samples_per_second': 20.392, 'train_steps_per_second': 2.549, 'total_flos': 1175877900288000.0, 'train_loss': 1.2449822023179795, 'epoch': 3.0})"
            ]
          },
          "metadata": {},
          "execution_count": 31
        }
      ]
    },
    {
      "cell_type": "markdown",
      "metadata": {
        "id": "Ic_wNlBHCRMn"
      },
      "source": [
        "And, in the next cell, you can evaluate the fine-tuned model's performance on the test set."
      ]
    },
    {
      "cell_type": "code",
      "metadata": {
        "id": "92N11A076wRA",
        "colab": {
          "base_uri": "https://localhost:8080/",
          "height": 248
        },
        "outputId": "3560271c-542b-4140-cc91-41ca942a5b29"
      },
      "source": [
        "# The evaluation may take around 30 seconds\n",
        "trainer.evaluate(processed_test_data)"
      ],
      "execution_count": 32,
      "outputs": [
        {
          "output_type": "stream",
          "name": "stderr",
          "text": [
            "The following columns in the evaluation set don't have a corresponding argument in `DistilBertForQuestionAnswering.forward` and have been ignored: annotations.minimal_answers_start_byte, document_plaintext, annotations.passage_answer_candidate_index, annotations.minimal_answers_end_byte, passage_answer_candidates.plaintext_end_byte, document_url, document_title, passage_answer_candidates.plaintext_start_byte, language, question_text, annotations.yes_no_answer. If annotations.minimal_answers_start_byte, document_plaintext, annotations.passage_answer_candidate_index, annotations.minimal_answers_end_byte, passage_answer_candidates.plaintext_end_byte, document_url, document_title, passage_answer_candidates.plaintext_start_byte, language, question_text, annotations.yes_no_answer are not expected by `DistilBertForQuestionAnswering.forward`,  you can safely ignore this message.\n",
            "***** Running Evaluation *****\n",
            "  Num examples = 1000\n",
            "  Batch size = 8\n"
          ]
        },
        {
          "output_type": "display_data",
          "data": {
            "text/plain": [
              "<IPython.core.display.HTML object>"
            ],
            "text/html": [
              "\n",
              "    <div>\n",
              "      \n",
              "      <progress value='125' max='125' style='width:300px; height:20px; vertical-align: middle;'></progress>\n",
              "      [125/125 00:16]\n",
              "    </div>\n",
              "    "
            ]
          },
          "metadata": {}
        },
        {
          "output_type": "execute_result",
          "data": {
            "text/plain": [
              "{'epoch': 3.0,\n",
              " 'eval_f1_end': 0.10903973263672619,\n",
              " 'eval_f1_start': 0.09401088809221052,\n",
              " 'eval_loss': 2.3244471549987793,\n",
              " 'eval_runtime': 16.7025,\n",
              " 'eval_samples_per_second': 59.871,\n",
              " 'eval_steps_per_second': 7.484}"
            ]
          },
          "metadata": {},
          "execution_count": 32
        }
      ]
    },
    {
      "cell_type": "markdown",
      "metadata": {
        "id": "_HubPkRbnzh_"
      },
      "source": [
        "### Using your Fine-Tuned Model\n",
        "\n",
        "After training and evaluating your fine-tuned model, you can check its results for the same questions from the previous lab.\n",
        "\n",
        "For that, you will tell Pytorch to use your GPU or your CPU to run the model. Additionally, you will need to tokenize your input context and questions. Finally, you need to post-process the output results to transform them from tokens to human-readable strings using the `tokenizer`."
      ]
    },
    {
      "cell_type": "code",
      "metadata": {
        "id": "yxZGsmIOBCZ6",
        "colab": {
          "base_uri": "https://localhost:8080/"
        },
        "outputId": "1e031e48-7201-405a-feee-232e019f09f5"
      },
      "source": [
        "import torch\n",
        "\n",
        "text = r\"\"\"\n",
        "The Golden Age of Comic Books describes an era of American comic books from the \n",
        "late 1930s to circa 1950. During this time, modern comic books were first published \n",
        "and rapidly increased in popularity. The superhero archetype was created and many \n",
        "well-known characters were introduced, including Superman, Batman, Captain Marvel \n",
        "(later known as SHAZAM!), Captain America, and Wonder Woman.\n",
        "Between 1939 and 1941 Detective Comics and its sister company, All-American Publications, \n",
        "introduced popular superheroes such as Batman and Robin, Wonder Woman, the Flash, \n",
        "Green Lantern, Doctor Fate, the Atom, Hawkman, Green Arrow and Aquaman.[7] Timely Comics, \n",
        "the 1940s predecessor of Marvel Comics, had million-selling titles featuring the Human Torch,\n",
        "the Sub-Mariner, and Captain America.[8]\n",
        "As comic books grew in popularity, publishers began launching titles that expanded \n",
        "into a variety of genres. Dell Comics' non-superhero characters (particularly the \n",
        "licensed Walt Disney animated-character comics) outsold the superhero comics of the day.[12] \n",
        "The publisher featured licensed movie and literary characters such as Mickey Mouse, Donald Duck,\n",
        "Roy Rogers and Tarzan.[13] It was during this era that noted Donald Duck writer-artist\n",
        "Carl Barks rose to prominence.[14] Additionally, MLJ's introduction of Archie Andrews\n",
        "in Pep Comics #22 (December 1941) gave rise to teen humor comics,[15] with the Archie \n",
        "Andrews character remaining in print well into the 21st century.[16]\n",
        "At the same time in Canada, American comic books were prohibited importation under \n",
        "the War Exchange Conservation Act[17] which restricted the importation of non-essential \n",
        "goods. As a result, a domestic publishing industry flourished during the duration \n",
        "of the war which were collectively informally called the Canadian Whites.\n",
        "The educational comic book Dagwood Splits the Atom used characters from the comic \n",
        "strip Blondie.[18] According to historian Michael A. Amundson, appealing comic-book \n",
        "characters helped ease young readers' fear of nuclear war and neutralize anxiety \n",
        "about the questions posed by atomic power.[19] It was during this period that long-running \n",
        "humor comics debuted, including EC's Mad and Carl Barks' Uncle Scrooge in Dell's Four \n",
        "Color Comics (both in 1952).[20][21]\n",
        "\"\"\"\n",
        "\n",
        "questions = [\"What superheroes were introduced between 1939 and 1941 by Detective Comics and its sister company?\",\n",
        "             \"What comic book characters were created between 1939 and 1941?\",\n",
        "             \"What well-known characters were created between 1939 and 1941?\",\n",
        "             \"What well-known superheroes were introduced between 1939 and 1941 by Detective Comics?\"]\n",
        "\n",
        "for question in questions:\n",
        "    inputs = tokenizer.encode_plus(question, text, return_tensors=\"pt\")\n",
        "    #print(\"inputs\", inputs)\n",
        "    #print(\"inputs\", type(inputs))\n",
        "    input_ids = inputs[\"input_ids\"].tolist()[0]\n",
        "    inputs.to(\"cuda\")\n",
        "\n",
        "    text_tokens = tokenizer.convert_ids_to_tokens(input_ids)\n",
        "    print('Text_tokens >> ',text_tokens)\n",
        "    answer_model = model(**inputs)\n",
        "\n",
        "    answer_start = torch.argmax(\n",
        "        answer_model['start_logits']\n",
        "    )  # Get the most likely beginning of answer with the argmax of the score\n",
        "    answer_end = torch.argmax(answer_model['end_logits']) + 1  # Get the most likely end of answer with the argmax of the score\n",
        "\n",
        "    answer = tokenizer.convert_tokens_to_string(tokenizer.convert_ids_to_tokens(input_ids[answer_start:answer_end]))\n",
        "\n",
        "    print(f\"Question: {question}\")\n",
        "    print(f\"Answer: {answer}\\n\")\n"
      ],
      "execution_count": 33,
      "outputs": [
        {
          "output_type": "stream",
          "name": "stdout",
          "text": [
            "Text_tokens >>  ['[CLS]', 'What', 'superhero', '##es', 'were', 'introduced', 'between', '1939', 'and', '1941', 'by', 'Detective', 'Comics', 'and', 'its', 'sister', 'company', '?', '[SEP]', 'The', 'Golden', 'Age', 'of', 'Comic', 'Books', 'describes', 'an', 'era', 'of', 'American', 'comic', 'books', 'from', 'the', 'late', '1930s', 'to', 'circa', '1950', '.', 'During', 'this', 'time', ',', 'modern', 'comic', 'books', 'were', 'first', 'published', 'and', 'rapidly', 'increased', 'in', 'popularity', '.', 'The', 'superhero', 'arch', '##ety', '##pe', 'was', 'created', 'and', 'many', 'well', '-', 'known', 'characters', 'were', 'introduced', ',', 'including', 'Superman', ',', 'Batman', ',', 'Captain', 'Marvel', '(', 'later', 'known', 'as', 'SH', '##A', '##Z', '##AM', '!', ')', ',', 'Captain', 'America', ',', 'and', 'Wonder', 'Woman', '.', 'Between', '1939', 'and', '1941', 'Detective', 'Comics', 'and', 'its', 'sister', 'company', ',', 'All', '-', 'American', 'Publications', ',', 'introduced', 'popular', 'superhero', '##es', 'such', 'as', 'Batman', 'and', 'Robin', ',', 'Wonder', 'Woman', ',', 'the', 'Flash', ',', 'Green', 'Lantern', ',', 'Doctor', 'Fate', ',', 'the', 'At', '##om', ',', 'Hawk', '##man', ',', 'Green', 'Arrow', 'and', 'A', '##qua', '##man', '.', '[', '7', ']', 'Time', '##ly', 'Comics', ',', 'the', '1940s', 'predecessor', 'of', 'Marvel', 'Comics', ',', 'had', 'million', '-', 'selling', 'titles', 'featuring', 'the', 'Human', 'Tor', '##ch', ',', 'the', 'Sub', '-', 'Marine', '##r', ',', 'and', 'Captain', 'America', '.', '[', '8', ']', 'As', 'comic', 'books', 'grew', 'in', 'popularity', ',', 'publishers', 'began', 'launching', 'titles', 'that', 'expanded', 'into', 'a', 'variety', 'of', 'genres', '.', 'Dell', 'Comics', \"'\", 'non', '-', 'superhero', 'characters', '(', 'particularly', 'the', 'licensed', 'Walt', 'Disney', 'animated', '-', 'character', 'comics', ')', 'outs', '##old', 'the', 'superhero', 'comics', 'of', 'the', 'day', '.', '[', '12', ']', 'The', 'publisher', 'featured', 'licensed', 'movie', 'and', 'literary', 'characters', 'such', 'as', 'Mickey', 'Mouse', ',', 'Donald', 'Duck', ',', 'Roy', 'Rogers', 'and', 'Tarzan', '.', '[', '13', ']', 'It', 'was', 'during', 'this', 'era', 'that', 'noted', 'Donald', 'Duck', 'writer', '-', 'artist', 'Carl', 'Bar', '##ks', 'rose', 'to', 'prominence', '.', '[', '14', ']', 'Additionally', ',', 'M', '##L', '##J', \"'\", 's', 'introduction', 'of', 'Archie', 'Andrews', 'in', 'P', '##ep', 'Comics', '#', '22', '(', 'December', '1941', ')', 'gave', 'rise', 'to', 'teen', 'humor', 'comics', ',', '[', '15', ']', 'with', 'the', 'Archie', 'Andrews', 'character', 'remaining', 'in', 'print', 'well', 'into', 'the', '21st', 'century', '.', '[', '16', ']', 'At', 'the', 'same', 'time', 'in', 'Canada', ',', 'American', 'comic', 'books', 'were', 'prohibited', 'import', '##ation', 'under', 'the', 'War', 'Exchange', 'Conservation', 'Act', '[', '17', ']', 'which', 'restricted', 'the', 'import', '##ation', 'of', 'non', '-', 'essential', 'goods', '.', 'As', 'a', 'result', ',', 'a', 'domestic', 'publishing', 'industry', 'flourished', 'during', 'the', 'duration', 'of', 'the', 'war', 'which', 'were', 'collectively', 'informally', 'called', 'the', 'Canadian', 'White', '##s', '.', 'The', 'educational', 'comic', 'book', 'Da', '##g', '##wood', 'Split', '##s', 'the', 'At', '##om', 'used', 'characters', 'from', 'the', 'comic', 'strip', 'B', '##lon', '##die', '.', '[', '18', ']', 'According', 'to', 'historian', 'Michael', 'A', '.', 'Am', '##unds', '##on', ',', 'appealing', 'comic', '-', 'book', 'characters', 'helped', 'ease', 'young', 'readers', \"'\", 'fear', 'of', 'nuclear', 'war', 'and', 'neutral', '##ize', 'anxiety', 'about', 'the', 'questions', 'posed', 'by', 'atomic', 'power', '.', '[', '19', ']', 'It', 'was', 'during', 'this', 'period', 'that', 'long', '-', 'running', 'humor', 'comics', 'debuted', ',', 'including', 'EC', \"'\", 's', 'Mad', 'and', 'Carl', 'Bar', '##ks', \"'\", 'Uncle', 'Sc', '##roo', '##ge', 'in', 'Dell', \"'\", 's', 'Four', 'Color', 'Comics', '(', 'both', 'in', '1952', ')', '.', '[', '20', ']', '[', '21', ']', '[SEP]']\n",
            "Question: What superheroes were introduced between 1939 and 1941 by Detective Comics and its sister company?\n",
            "Answer: Superman, Batman, Captain Marvel ( later known as SHAZAM! ), Captain America, and Wonder Woman. Between 1939 and 1941 Detective Comics and its sister company, All - American Publications, introduced popular superheroes such as Batman and Robin, Wonder Woman, the Flash, Green Lantern, Doctor Fate, the Atom, Hawkman, Green Arrow and Aquaman\n",
            "\n",
            "Text_tokens >>  ['[CLS]', 'What', 'comic', 'book', 'characters', 'were', 'created', 'between', '1939', 'and', '1941', '?', '[SEP]', 'The', 'Golden', 'Age', 'of', 'Comic', 'Books', 'describes', 'an', 'era', 'of', 'American', 'comic', 'books', 'from', 'the', 'late', '1930s', 'to', 'circa', '1950', '.', 'During', 'this', 'time', ',', 'modern', 'comic', 'books', 'were', 'first', 'published', 'and', 'rapidly', 'increased', 'in', 'popularity', '.', 'The', 'superhero', 'arch', '##ety', '##pe', 'was', 'created', 'and', 'many', 'well', '-', 'known', 'characters', 'were', 'introduced', ',', 'including', 'Superman', ',', 'Batman', ',', 'Captain', 'Marvel', '(', 'later', 'known', 'as', 'SH', '##A', '##Z', '##AM', '!', ')', ',', 'Captain', 'America', ',', 'and', 'Wonder', 'Woman', '.', 'Between', '1939', 'and', '1941', 'Detective', 'Comics', 'and', 'its', 'sister', 'company', ',', 'All', '-', 'American', 'Publications', ',', 'introduced', 'popular', 'superhero', '##es', 'such', 'as', 'Batman', 'and', 'Robin', ',', 'Wonder', 'Woman', ',', 'the', 'Flash', ',', 'Green', 'Lantern', ',', 'Doctor', 'Fate', ',', 'the', 'At', '##om', ',', 'Hawk', '##man', ',', 'Green', 'Arrow', 'and', 'A', '##qua', '##man', '.', '[', '7', ']', 'Time', '##ly', 'Comics', ',', 'the', '1940s', 'predecessor', 'of', 'Marvel', 'Comics', ',', 'had', 'million', '-', 'selling', 'titles', 'featuring', 'the', 'Human', 'Tor', '##ch', ',', 'the', 'Sub', '-', 'Marine', '##r', ',', 'and', 'Captain', 'America', '.', '[', '8', ']', 'As', 'comic', 'books', 'grew', 'in', 'popularity', ',', 'publishers', 'began', 'launching', 'titles', 'that', 'expanded', 'into', 'a', 'variety', 'of', 'genres', '.', 'Dell', 'Comics', \"'\", 'non', '-', 'superhero', 'characters', '(', 'particularly', 'the', 'licensed', 'Walt', 'Disney', 'animated', '-', 'character', 'comics', ')', 'outs', '##old', 'the', 'superhero', 'comics', 'of', 'the', 'day', '.', '[', '12', ']', 'The', 'publisher', 'featured', 'licensed', 'movie', 'and', 'literary', 'characters', 'such', 'as', 'Mickey', 'Mouse', ',', 'Donald', 'Duck', ',', 'Roy', 'Rogers', 'and', 'Tarzan', '.', '[', '13', ']', 'It', 'was', 'during', 'this', 'era', 'that', 'noted', 'Donald', 'Duck', 'writer', '-', 'artist', 'Carl', 'Bar', '##ks', 'rose', 'to', 'prominence', '.', '[', '14', ']', 'Additionally', ',', 'M', '##L', '##J', \"'\", 's', 'introduction', 'of', 'Archie', 'Andrews', 'in', 'P', '##ep', 'Comics', '#', '22', '(', 'December', '1941', ')', 'gave', 'rise', 'to', 'teen', 'humor', 'comics', ',', '[', '15', ']', 'with', 'the', 'Archie', 'Andrews', 'character', 'remaining', 'in', 'print', 'well', 'into', 'the', '21st', 'century', '.', '[', '16', ']', 'At', 'the', 'same', 'time', 'in', 'Canada', ',', 'American', 'comic', 'books', 'were', 'prohibited', 'import', '##ation', 'under', 'the', 'War', 'Exchange', 'Conservation', 'Act', '[', '17', ']', 'which', 'restricted', 'the', 'import', '##ation', 'of', 'non', '-', 'essential', 'goods', '.', 'As', 'a', 'result', ',', 'a', 'domestic', 'publishing', 'industry', 'flourished', 'during', 'the', 'duration', 'of', 'the', 'war', 'which', 'were', 'collectively', 'informally', 'called', 'the', 'Canadian', 'White', '##s', '.', 'The', 'educational', 'comic', 'book', 'Da', '##g', '##wood', 'Split', '##s', 'the', 'At', '##om', 'used', 'characters', 'from', 'the', 'comic', 'strip', 'B', '##lon', '##die', '.', '[', '18', ']', 'According', 'to', 'historian', 'Michael', 'A', '.', 'Am', '##unds', '##on', ',', 'appealing', 'comic', '-', 'book', 'characters', 'helped', 'ease', 'young', 'readers', \"'\", 'fear', 'of', 'nuclear', 'war', 'and', 'neutral', '##ize', 'anxiety', 'about', 'the', 'questions', 'posed', 'by', 'atomic', 'power', '.', '[', '19', ']', 'It', 'was', 'during', 'this', 'period', 'that', 'long', '-', 'running', 'humor', 'comics', 'debuted', ',', 'including', 'EC', \"'\", 's', 'Mad', 'and', 'Carl', 'Bar', '##ks', \"'\", 'Uncle', 'Sc', '##roo', '##ge', 'in', 'Dell', \"'\", 's', 'Four', 'Color', 'Comics', '(', 'both', 'in', '1952', ')', '.', '[', '20', ']', '[', '21', ']', '[SEP]']\n",
            "Question: What comic book characters were created between 1939 and 1941?\n",
            "Answer: Superman, Batman, Captain Marvel ( later known as SHAZAM! ), Captain America, and Wonder Woman\n",
            "\n",
            "Text_tokens >>  ['[CLS]', 'What', 'well', '-', 'known', 'characters', 'were', 'created', 'between', '1939', 'and', '1941', '?', '[SEP]', 'The', 'Golden', 'Age', 'of', 'Comic', 'Books', 'describes', 'an', 'era', 'of', 'American', 'comic', 'books', 'from', 'the', 'late', '1930s', 'to', 'circa', '1950', '.', 'During', 'this', 'time', ',', 'modern', 'comic', 'books', 'were', 'first', 'published', 'and', 'rapidly', 'increased', 'in', 'popularity', '.', 'The', 'superhero', 'arch', '##ety', '##pe', 'was', 'created', 'and', 'many', 'well', '-', 'known', 'characters', 'were', 'introduced', ',', 'including', 'Superman', ',', 'Batman', ',', 'Captain', 'Marvel', '(', 'later', 'known', 'as', 'SH', '##A', '##Z', '##AM', '!', ')', ',', 'Captain', 'America', ',', 'and', 'Wonder', 'Woman', '.', 'Between', '1939', 'and', '1941', 'Detective', 'Comics', 'and', 'its', 'sister', 'company', ',', 'All', '-', 'American', 'Publications', ',', 'introduced', 'popular', 'superhero', '##es', 'such', 'as', 'Batman', 'and', 'Robin', ',', 'Wonder', 'Woman', ',', 'the', 'Flash', ',', 'Green', 'Lantern', ',', 'Doctor', 'Fate', ',', 'the', 'At', '##om', ',', 'Hawk', '##man', ',', 'Green', 'Arrow', 'and', 'A', '##qua', '##man', '.', '[', '7', ']', 'Time', '##ly', 'Comics', ',', 'the', '1940s', 'predecessor', 'of', 'Marvel', 'Comics', ',', 'had', 'million', '-', 'selling', 'titles', 'featuring', 'the', 'Human', 'Tor', '##ch', ',', 'the', 'Sub', '-', 'Marine', '##r', ',', 'and', 'Captain', 'America', '.', '[', '8', ']', 'As', 'comic', 'books', 'grew', 'in', 'popularity', ',', 'publishers', 'began', 'launching', 'titles', 'that', 'expanded', 'into', 'a', 'variety', 'of', 'genres', '.', 'Dell', 'Comics', \"'\", 'non', '-', 'superhero', 'characters', '(', 'particularly', 'the', 'licensed', 'Walt', 'Disney', 'animated', '-', 'character', 'comics', ')', 'outs', '##old', 'the', 'superhero', 'comics', 'of', 'the', 'day', '.', '[', '12', ']', 'The', 'publisher', 'featured', 'licensed', 'movie', 'and', 'literary', 'characters', 'such', 'as', 'Mickey', 'Mouse', ',', 'Donald', 'Duck', ',', 'Roy', 'Rogers', 'and', 'Tarzan', '.', '[', '13', ']', 'It', 'was', 'during', 'this', 'era', 'that', 'noted', 'Donald', 'Duck', 'writer', '-', 'artist', 'Carl', 'Bar', '##ks', 'rose', 'to', 'prominence', '.', '[', '14', ']', 'Additionally', ',', 'M', '##L', '##J', \"'\", 's', 'introduction', 'of', 'Archie', 'Andrews', 'in', 'P', '##ep', 'Comics', '#', '22', '(', 'December', '1941', ')', 'gave', 'rise', 'to', 'teen', 'humor', 'comics', ',', '[', '15', ']', 'with', 'the', 'Archie', 'Andrews', 'character', 'remaining', 'in', 'print', 'well', 'into', 'the', '21st', 'century', '.', '[', '16', ']', 'At', 'the', 'same', 'time', 'in', 'Canada', ',', 'American', 'comic', 'books', 'were', 'prohibited', 'import', '##ation', 'under', 'the', 'War', 'Exchange', 'Conservation', 'Act', '[', '17', ']', 'which', 'restricted', 'the', 'import', '##ation', 'of', 'non', '-', 'essential', 'goods', '.', 'As', 'a', 'result', ',', 'a', 'domestic', 'publishing', 'industry', 'flourished', 'during', 'the', 'duration', 'of', 'the', 'war', 'which', 'were', 'collectively', 'informally', 'called', 'the', 'Canadian', 'White', '##s', '.', 'The', 'educational', 'comic', 'book', 'Da', '##g', '##wood', 'Split', '##s', 'the', 'At', '##om', 'used', 'characters', 'from', 'the', 'comic', 'strip', 'B', '##lon', '##die', '.', '[', '18', ']', 'According', 'to', 'historian', 'Michael', 'A', '.', 'Am', '##unds', '##on', ',', 'appealing', 'comic', '-', 'book', 'characters', 'helped', 'ease', 'young', 'readers', \"'\", 'fear', 'of', 'nuclear', 'war', 'and', 'neutral', '##ize', 'anxiety', 'about', 'the', 'questions', 'posed', 'by', 'atomic', 'power', '.', '[', '19', ']', 'It', 'was', 'during', 'this', 'period', 'that', 'long', '-', 'running', 'humor', 'comics', 'debuted', ',', 'including', 'EC', \"'\", 's', 'Mad', 'and', 'Carl', 'Bar', '##ks', \"'\", 'Uncle', 'Sc', '##roo', '##ge', 'in', 'Dell', \"'\", 's', 'Four', 'Color', 'Comics', '(', 'both', 'in', '1952', ')', '.', '[', '20', ']', '[', '21', ']', '[SEP]']\n",
            "Question: What well-known characters were created between 1939 and 1941?\n",
            "Answer: Superman, Batman, Captain Marvel ( later known as SHAZAM! ), Captain America, and Wonder Woman\n",
            "\n",
            "Text_tokens >>  ['[CLS]', 'What', 'well', '-', 'known', 'superhero', '##es', 'were', 'introduced', 'between', '1939', 'and', '1941', 'by', 'Detective', 'Comics', '?', '[SEP]', 'The', 'Golden', 'Age', 'of', 'Comic', 'Books', 'describes', 'an', 'era', 'of', 'American', 'comic', 'books', 'from', 'the', 'late', '1930s', 'to', 'circa', '1950', '.', 'During', 'this', 'time', ',', 'modern', 'comic', 'books', 'were', 'first', 'published', 'and', 'rapidly', 'increased', 'in', 'popularity', '.', 'The', 'superhero', 'arch', '##ety', '##pe', 'was', 'created', 'and', 'many', 'well', '-', 'known', 'characters', 'were', 'introduced', ',', 'including', 'Superman', ',', 'Batman', ',', 'Captain', 'Marvel', '(', 'later', 'known', 'as', 'SH', '##A', '##Z', '##AM', '!', ')', ',', 'Captain', 'America', ',', 'and', 'Wonder', 'Woman', '.', 'Between', '1939', 'and', '1941', 'Detective', 'Comics', 'and', 'its', 'sister', 'company', ',', 'All', '-', 'American', 'Publications', ',', 'introduced', 'popular', 'superhero', '##es', 'such', 'as', 'Batman', 'and', 'Robin', ',', 'Wonder', 'Woman', ',', 'the', 'Flash', ',', 'Green', 'Lantern', ',', 'Doctor', 'Fate', ',', 'the', 'At', '##om', ',', 'Hawk', '##man', ',', 'Green', 'Arrow', 'and', 'A', '##qua', '##man', '.', '[', '7', ']', 'Time', '##ly', 'Comics', ',', 'the', '1940s', 'predecessor', 'of', 'Marvel', 'Comics', ',', 'had', 'million', '-', 'selling', 'titles', 'featuring', 'the', 'Human', 'Tor', '##ch', ',', 'the', 'Sub', '-', 'Marine', '##r', ',', 'and', 'Captain', 'America', '.', '[', '8', ']', 'As', 'comic', 'books', 'grew', 'in', 'popularity', ',', 'publishers', 'began', 'launching', 'titles', 'that', 'expanded', 'into', 'a', 'variety', 'of', 'genres', '.', 'Dell', 'Comics', \"'\", 'non', '-', 'superhero', 'characters', '(', 'particularly', 'the', 'licensed', 'Walt', 'Disney', 'animated', '-', 'character', 'comics', ')', 'outs', '##old', 'the', 'superhero', 'comics', 'of', 'the', 'day', '.', '[', '12', ']', 'The', 'publisher', 'featured', 'licensed', 'movie', 'and', 'literary', 'characters', 'such', 'as', 'Mickey', 'Mouse', ',', 'Donald', 'Duck', ',', 'Roy', 'Rogers', 'and', 'Tarzan', '.', '[', '13', ']', 'It', 'was', 'during', 'this', 'era', 'that', 'noted', 'Donald', 'Duck', 'writer', '-', 'artist', 'Carl', 'Bar', '##ks', 'rose', 'to', 'prominence', '.', '[', '14', ']', 'Additionally', ',', 'M', '##L', '##J', \"'\", 's', 'introduction', 'of', 'Archie', 'Andrews', 'in', 'P', '##ep', 'Comics', '#', '22', '(', 'December', '1941', ')', 'gave', 'rise', 'to', 'teen', 'humor', 'comics', ',', '[', '15', ']', 'with', 'the', 'Archie', 'Andrews', 'character', 'remaining', 'in', 'print', 'well', 'into', 'the', '21st', 'century', '.', '[', '16', ']', 'At', 'the', 'same', 'time', 'in', 'Canada', ',', 'American', 'comic', 'books', 'were', 'prohibited', 'import', '##ation', 'under', 'the', 'War', 'Exchange', 'Conservation', 'Act', '[', '17', ']', 'which', 'restricted', 'the', 'import', '##ation', 'of', 'non', '-', 'essential', 'goods', '.', 'As', 'a', 'result', ',', 'a', 'domestic', 'publishing', 'industry', 'flourished', 'during', 'the', 'duration', 'of', 'the', 'war', 'which', 'were', 'collectively', 'informally', 'called', 'the', 'Canadian', 'White', '##s', '.', 'The', 'educational', 'comic', 'book', 'Da', '##g', '##wood', 'Split', '##s', 'the', 'At', '##om', 'used', 'characters', 'from', 'the', 'comic', 'strip', 'B', '##lon', '##die', '.', '[', '18', ']', 'According', 'to', 'historian', 'Michael', 'A', '.', 'Am', '##unds', '##on', ',', 'appealing', 'comic', '-', 'book', 'characters', 'helped', 'ease', 'young', 'readers', \"'\", 'fear', 'of', 'nuclear', 'war', 'and', 'neutral', '##ize', 'anxiety', 'about', 'the', 'questions', 'posed', 'by', 'atomic', 'power', '.', '[', '19', ']', 'It', 'was', 'during', 'this', 'period', 'that', 'long', '-', 'running', 'humor', 'comics', 'debuted', ',', 'including', 'EC', \"'\", 's', 'Mad', 'and', 'Carl', 'Bar', '##ks', \"'\", 'Uncle', 'Sc', '##roo', '##ge', 'in', 'Dell', \"'\", 's', 'Four', 'Color', 'Comics', '(', 'both', 'in', '1952', ')', '.', '[', '20', ']', '[', '21', ']', '[SEP]']\n",
            "Question: What well-known superheroes were introduced between 1939 and 1941 by Detective Comics?\n",
            "Answer: Superman, Batman, Captain Marvel ( later known as SHAZAM! ), Captain America, and Wonder Woman\n",
            "\n"
          ]
        }
      ]
    },
    {
      "cell_type": "markdown",
      "metadata": {
        "id": "_yTDQ6kn6pWS"
      },
      "source": [
        "You can compare those results with those obtained using the pipeline, as you did in the previous lab. As a reminder, here are those results:\n",
        "\n",
        "```\n",
        "What popular superheroes were introduced between 1939 and 1941? \n",
        ">> teen humor comics\n",
        "What superheroes were introduced between 1939 and 1941 by Detective Comics and its sister company? \n",
        ">> Archie Andrews\n",
        "What comic book characters were created between 1939 and 1941? \n",
        ">> Archie \n",
        "Andrews\n",
        "What well-known characters were created between 1939 and 1941? \n",
        ">> Archie \n",
        "Andrews\n",
        "What well-known superheroes were introduced between 1939 and 1941 by Detective Comics? \n",
        ">> Archie Andrews\n",
        "```"
      ]
    },
    {
      "cell_type": "markdown",
      "metadata": {
        "id": "uf-v8mUSLqXN"
      },
      "source": [
        "**Congratulations!**\n",
        "\n",
        "You have finished this series of ungraded labs. You were able to: \n",
        "\n",
        "* Explore the Hugging Face Pipelines, which can be used right out of the bat.\n",
        "\n",
        "* Fine-tune a model for the Extractive Question & Answering task.\n",
        "\n",
        "I recommend you go through the free [Hugging Face course](https://huggingface.co/course/chapter1) to explore their ecosystem in more detail and find different ways to use the `transformers` library. "
      ]
    },
    {
      "cell_type": "code",
      "source": [
        ""
      ],
      "metadata": {
        "id": "xyDbQ2SDxmQK"
      },
      "execution_count": 23,
      "outputs": []
    }
  ]
}